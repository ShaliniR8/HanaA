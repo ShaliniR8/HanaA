{
  "nbformat": 4,
  "nbformat_minor": 0,
  "metadata": {
    "colab": {
      "name": "Image_classifiction",
      "provenance": [],
      "authorship_tag": "ABX9TyOQ4zpzPREmGrVNUWx9JXQG",
      "include_colab_link": true
    },
    "kernelspec": {
      "name": "python3",
      "display_name": "Python 3"
    }
  },
  "cells": [
    {
      "cell_type": "markdown",
      "metadata": {
        "id": "view-in-github",
        "colab_type": "text"
      },
      "source": [
        "<a href=\"https://colab.research.google.com/github/ShaliniR8/HanaA/blob/master/Image_classifiction.ipynb\" target=\"_parent\"><img src=\"https://colab.research.google.com/assets/colab-badge.svg\" alt=\"Open In Colab\"/></a>"
      ]
    },
    {
      "cell_type": "code",
      "metadata": {
        "id": "apxgKtP7BTBd",
        "colab_type": "code",
        "colab": {
          "base_uri": "https://localhost:8080/",
          "height": 679
        },
        "outputId": "a05abc38-7fc5-4adc-af5a-0fa003d564f1"
      },
      "source": [
        "!pip install tensorflow"
      ],
      "execution_count": 1,
      "outputs": [
        {
          "output_type": "stream",
          "text": [
            "Requirement already satisfied: tensorflow in /usr/local/lib/python3.6/dist-packages (2.2.0)\n",
            "Requirement already satisfied: h5py<2.11.0,>=2.10.0 in /usr/local/lib/python3.6/dist-packages (from tensorflow) (2.10.0)\n",
            "Requirement already satisfied: keras-preprocessing>=1.1.0 in /usr/local/lib/python3.6/dist-packages (from tensorflow) (1.1.2)\n",
            "Requirement already satisfied: numpy<2.0,>=1.16.0 in /usr/local/lib/python3.6/dist-packages (from tensorflow) (1.18.5)\n",
            "Requirement already satisfied: scipy==1.4.1; python_version >= \"3\" in /usr/local/lib/python3.6/dist-packages (from tensorflow) (1.4.1)\n",
            "Requirement already satisfied: tensorflow-estimator<2.3.0,>=2.2.0 in /usr/local/lib/python3.6/dist-packages (from tensorflow) (2.2.0)\n",
            "Requirement already satisfied: astunparse==1.6.3 in /usr/local/lib/python3.6/dist-packages (from tensorflow) (1.6.3)\n",
            "Requirement already satisfied: opt-einsum>=2.3.2 in /usr/local/lib/python3.6/dist-packages (from tensorflow) (3.2.1)\n",
            "Requirement already satisfied: google-pasta>=0.1.8 in /usr/local/lib/python3.6/dist-packages (from tensorflow) (0.2.0)\n",
            "Requirement already satisfied: gast==0.3.3 in /usr/local/lib/python3.6/dist-packages (from tensorflow) (0.3.3)\n",
            "Requirement already satisfied: six>=1.12.0 in /usr/local/lib/python3.6/dist-packages (from tensorflow) (1.12.0)\n",
            "Requirement already satisfied: termcolor>=1.1.0 in /usr/local/lib/python3.6/dist-packages (from tensorflow) (1.1.0)\n",
            "Requirement already satisfied: grpcio>=1.8.6 in /usr/local/lib/python3.6/dist-packages (from tensorflow) (1.29.0)\n",
            "Requirement already satisfied: wheel>=0.26; python_version >= \"3\" in /usr/local/lib/python3.6/dist-packages (from tensorflow) (0.34.2)\n",
            "Requirement already satisfied: tensorboard<2.3.0,>=2.2.0 in /usr/local/lib/python3.6/dist-packages (from tensorflow) (2.2.2)\n",
            "Requirement already satisfied: wrapt>=1.11.1 in /usr/local/lib/python3.6/dist-packages (from tensorflow) (1.12.1)\n",
            "Requirement already satisfied: absl-py>=0.7.0 in /usr/local/lib/python3.6/dist-packages (from tensorflow) (0.9.0)\n",
            "Requirement already satisfied: protobuf>=3.8.0 in /usr/local/lib/python3.6/dist-packages (from tensorflow) (3.10.0)\n",
            "Requirement already satisfied: werkzeug>=0.11.15 in /usr/local/lib/python3.6/dist-packages (from tensorboard<2.3.0,>=2.2.0->tensorflow) (1.0.1)\n",
            "Requirement already satisfied: google-auth-oauthlib<0.5,>=0.4.1 in /usr/local/lib/python3.6/dist-packages (from tensorboard<2.3.0,>=2.2.0->tensorflow) (0.4.1)\n",
            "Requirement already satisfied: google-auth<2,>=1.6.3 in /usr/local/lib/python3.6/dist-packages (from tensorboard<2.3.0,>=2.2.0->tensorflow) (1.7.2)\n",
            "Requirement already satisfied: requests<3,>=2.21.0 in /usr/local/lib/python3.6/dist-packages (from tensorboard<2.3.0,>=2.2.0->tensorflow) (2.23.0)\n",
            "Requirement already satisfied: setuptools>=41.0.0 in /usr/local/lib/python3.6/dist-packages (from tensorboard<2.3.0,>=2.2.0->tensorflow) (47.1.1)\n",
            "Requirement already satisfied: tensorboard-plugin-wit>=1.6.0 in /usr/local/lib/python3.6/dist-packages (from tensorboard<2.3.0,>=2.2.0->tensorflow) (1.6.0.post3)\n",
            "Requirement already satisfied: markdown>=2.6.8 in /usr/local/lib/python3.6/dist-packages (from tensorboard<2.3.0,>=2.2.0->tensorflow) (3.2.2)\n",
            "Requirement already satisfied: requests-oauthlib>=0.7.0 in /usr/local/lib/python3.6/dist-packages (from google-auth-oauthlib<0.5,>=0.4.1->tensorboard<2.3.0,>=2.2.0->tensorflow) (1.3.0)\n",
            "Requirement already satisfied: cachetools<3.2,>=2.0.0 in /usr/local/lib/python3.6/dist-packages (from google-auth<2,>=1.6.3->tensorboard<2.3.0,>=2.2.0->tensorflow) (3.1.1)\n",
            "Requirement already satisfied: pyasn1-modules>=0.2.1 in /usr/local/lib/python3.6/dist-packages (from google-auth<2,>=1.6.3->tensorboard<2.3.0,>=2.2.0->tensorflow) (0.2.8)\n",
            "Requirement already satisfied: rsa<4.1,>=3.1.4 in /usr/local/lib/python3.6/dist-packages (from google-auth<2,>=1.6.3->tensorboard<2.3.0,>=2.2.0->tensorflow) (4.0)\n",
            "Requirement already satisfied: chardet<4,>=3.0.2 in /usr/local/lib/python3.6/dist-packages (from requests<3,>=2.21.0->tensorboard<2.3.0,>=2.2.0->tensorflow) (3.0.4)\n",
            "Requirement already satisfied: idna<3,>=2.5 in /usr/local/lib/python3.6/dist-packages (from requests<3,>=2.21.0->tensorboard<2.3.0,>=2.2.0->tensorflow) (2.9)\n",
            "Requirement already satisfied: certifi>=2017.4.17 in /usr/local/lib/python3.6/dist-packages (from requests<3,>=2.21.0->tensorboard<2.3.0,>=2.2.0->tensorflow) (2020.4.5.1)\n",
            "Requirement already satisfied: urllib3!=1.25.0,!=1.25.1,<1.26,>=1.21.1 in /usr/local/lib/python3.6/dist-packages (from requests<3,>=2.21.0->tensorboard<2.3.0,>=2.2.0->tensorflow) (1.24.3)\n",
            "Requirement already satisfied: importlib-metadata; python_version < \"3.8\" in /usr/local/lib/python3.6/dist-packages (from markdown>=2.6.8->tensorboard<2.3.0,>=2.2.0->tensorflow) (1.6.0)\n",
            "Requirement already satisfied: oauthlib>=3.0.0 in /usr/local/lib/python3.6/dist-packages (from requests-oauthlib>=0.7.0->google-auth-oauthlib<0.5,>=0.4.1->tensorboard<2.3.0,>=2.2.0->tensorflow) (3.1.0)\n",
            "Requirement already satisfied: pyasn1<0.5.0,>=0.4.6 in /usr/local/lib/python3.6/dist-packages (from pyasn1-modules>=0.2.1->google-auth<2,>=1.6.3->tensorboard<2.3.0,>=2.2.0->tensorflow) (0.4.8)\n",
            "Requirement already satisfied: zipp>=0.5 in /usr/local/lib/python3.6/dist-packages (from importlib-metadata; python_version < \"3.8\"->markdown>=2.6.8->tensorboard<2.3.0,>=2.2.0->tensorflow) (3.1.0)\n"
          ],
          "name": "stdout"
        }
      ]
    },
    {
      "cell_type": "markdown",
      "metadata": {
        "id": "wNECtJPCQOib",
        "colab_type": "text"
      },
      "source": [
        "**IMPORT LIBRARIES**"
      ]
    },
    {
      "cell_type": "code",
      "metadata": {
        "id": "mjsn0YNABvwD",
        "colab_type": "code",
        "colab": {
          "base_uri": "https://localhost:8080/",
          "height": 52
        },
        "cellView": "both",
        "outputId": "0ae02245-7c9b-4e94-d5be-2d06dd9d6e8e"
      },
      "source": [
        "#@title Default title text\n",
        "import tensorflow as tf\n",
        "import os\n",
        "import numpy as np\n",
        "\n",
        "import matplotlib.pyplot as plt\n",
        "%matplotlib inline\n",
        "\n",
        "if not os.path.isdir('models'):\n",
        "\tos.mkdir('models')\n",
        "\n",
        "print(os.path.isdir('models'))\n",
        "\n",
        "print('Tensorflow version:', tf.__version__)"
      ],
      "execution_count": 51,
      "outputs": [
        {
          "output_type": "stream",
          "text": [
            "True\n",
            "Tensorflow version: 2.2.0\n"
          ],
          "name": "stdout"
        }
      ]
    },
    {
      "cell_type": "markdown",
      "metadata": {
        "id": "UNk4UuUrQbW-",
        "colab_type": "text"
      },
      "source": [
        "**PREPROCESS DATA**"
      ]
    },
    {
      "cell_type": "code",
      "metadata": {
        "id": "DkjxEOm0B9AP",
        "colab_type": "code",
        "colab": {}
      },
      "source": [
        "def get_three_classes(x, y):\n",
        "\n",
        "    #selecting three classes out of all the class for practice\n",
        "    indices_0, _ = np.where(y == 0.)\n",
        "    indices_1, _ = np.where(y == 1.)\n",
        "    indices_2, _ = np.where(y == 2.)\n",
        "\n",
        "    indices = np.concatenate([indices_0, indices_1, indices_2], axis=0)\n",
        "    \n",
        "    x = x[indices]\n",
        "    y = y[indices]\n",
        "    \n",
        "    count = x.shape[0]\n",
        "    indices = np.random.choice(range(count), count, replace=False)\n",
        "    \n",
        "    x = x[indices]\n",
        "    y = y[indices]\n",
        "    \n",
        "    y = tf.keras.utils.to_categorical(y)\n",
        "    \n",
        "    return x, y"
      ],
      "execution_count": 0,
      "outputs": []
    },
    {
      "cell_type": "code",
      "metadata": {
        "id": "HhnCjfCgCK5T",
        "colab_type": "code",
        "colab": {}
      },
      "source": [
        "(x_train,y_train),(x_test,y_test)= tf.keras.datasets.cifar10.load_data()"
      ],
      "execution_count": 0,
      "outputs": []
    },
    {
      "cell_type": "code",
      "metadata": {
        "id": "gfgF78L8Cnjn",
        "colab_type": "code",
        "colab": {
          "base_uri": "https://localhost:8080/",
          "height": 52
        },
        "outputId": "f4a7bb33-4881-4ad8-e829-e48b7b21a975"
      },
      "source": [
        "print(x_train.shape,y_train.shape)\n",
        "x_train, y_train = get_three_classes(x_train,y_train)\n",
        "x_test , y_test= get_three_classes(x_test, y_test)\n",
        "print(x_train.shape, y_train.shape, x_test.shape, y_test.shape )"
      ],
      "execution_count": 66,
      "outputs": [
        {
          "output_type": "stream",
          "text": [
            "(50000, 32, 32, 3) (50000, 1)\n",
            "(15000, 32, 32, 3) (15000, 3) (3000, 32, 32, 3) (3000, 3)\n"
          ],
          "name": "stdout"
        }
      ]
    },
    {
      "cell_type": "markdown",
      "metadata": {
        "id": "4GalhYpRQl8I",
        "colab_type": "text"
      },
      "source": [
        "**VISUALIZE EXAMPLES**"
      ]
    },
    {
      "cell_type": "code",
      "metadata": {
        "id": "iSYbcHm_Cy4d",
        "colab_type": "code",
        "colab": {}
      },
      "source": [
        "class_names=['aeroplanes', 'car' , 'bird' ]\n",
        "def show_random_examples(x,y,p):\n",
        "  indices = np.random.choice(range(x.shape[0]),10,replace=False)\n",
        "  x=x[indices]\n",
        "  y=y[indices]\n",
        "  p=p[indices]\n",
        "\n",
        "  plt.figure(figsize=(10,5))\n",
        "  for i in range(10):\n",
        "    plt.subplot(2,5,1+i)\n",
        "    plt.imshow(x[i])\n",
        "    #argmax returns index of max element in the numpy array\n",
        "    col = 'green' if np.argmax(y[i])  == np.argmax(p[i]) else 'red'\n",
        "    plt.xlabel(class_names[np.argmax(y[i])],color=col)\n",
        "  plt.show()\n",
        "\n",
        "#show_random_examples(x_train,y_train,y_train)"
      ],
      "execution_count": 0,
      "outputs": []
    },
    {
      "cell_type": "markdown",
      "metadata": {
        "id": "4b1GGFrcQu0g",
        "colab_type": "text"
      },
      "source": [
        "**CREATE MODEL**"
      ]
    },
    {
      "cell_type": "code",
      "metadata": {
        "id": "_SzzHhMK84OG",
        "colab_type": "code",
        "colab": {
          "base_uri": "https://localhost:8080/",
          "height": 572
        },
        "outputId": "a8545a35-3941-40b0-b7f2-effc2f6bdd9e"
      },
      "source": [
        "from tensorflow.keras.layers import Conv2D, MaxPooling2D, BatchNormalization\n",
        "from tensorflow.keras.layers import Dropout, Flatten, Input, Dense\n",
        "\n",
        "#Conv2D -> Relu -> Batch Normalization -> Conv2D -> Max Pooling -> Dropout -> Flatten -> Dense\n",
        "def create_model():\n",
        "  def add_block(model, n_filters):\n",
        "    model.add(Conv2D(n_filters,3,activation='relu',padding='same'))\n",
        "    model.add(BatchNormalization())\n",
        "\n",
        "    model.add(Conv2D(n_filters,3,activation='relu'))\n",
        "\n",
        "    model.add(MaxPooling2D(pool_size=2))\n",
        "    model.add(Dropout(0.5))\n",
        "\n",
        "    return model\n",
        "\n",
        "  model=tf.keras.models.Sequential()\n",
        "  #f=32, n_C=3\n",
        "  model.add(Input(shape=(32,32,3)))\n",
        "  model = add_block(model,32)\n",
        "  model = add_block(model,64)\n",
        "\n",
        "  model.add(Flatten())\n",
        "  model.add(Dense(3, activation='softmax'))\n",
        "  \n",
        "  #compile\n",
        "  model.compile( loss= 'categorical_crossentropy', optimizer='adam',\n",
        "                metrics=['accuracy']\n",
        "                )\n",
        "  \n",
        "  return model\n",
        "\n",
        "model = create_model()\n",
        "model.summary()\n",
        "\n",
        "\n",
        "\n",
        "\n",
        "\n"
      ],
      "execution_count": 68,
      "outputs": [
        {
          "output_type": "stream",
          "text": [
            "Model: \"sequential_5\"\n",
            "_________________________________________________________________\n",
            "Layer (type)                 Output Shape              Param #   \n",
            "=================================================================\n",
            "conv2d_15 (Conv2D)           (None, 32, 32, 32)        896       \n",
            "_________________________________________________________________\n",
            "batch_normalization_7 (Batch (None, 32, 32, 32)        128       \n",
            "_________________________________________________________________\n",
            "conv2d_16 (Conv2D)           (None, 30, 30, 32)        9248      \n",
            "_________________________________________________________________\n",
            "max_pooling2d_6 (MaxPooling2 (None, 15, 15, 32)        0         \n",
            "_________________________________________________________________\n",
            "dropout_6 (Dropout)          (None, 15, 15, 32)        0         \n",
            "_________________________________________________________________\n",
            "conv2d_17 (Conv2D)           (None, 15, 15, 64)        18496     \n",
            "_________________________________________________________________\n",
            "batch_normalization_8 (Batch (None, 15, 15, 64)        256       \n",
            "_________________________________________________________________\n",
            "conv2d_18 (Conv2D)           (None, 13, 13, 64)        36928     \n",
            "_________________________________________________________________\n",
            "max_pooling2d_7 (MaxPooling2 (None, 6, 6, 64)          0         \n",
            "_________________________________________________________________\n",
            "dropout_7 (Dropout)          (None, 6, 6, 64)          0         \n",
            "_________________________________________________________________\n",
            "flatten_3 (Flatten)          (None, 2304)              0         \n",
            "_________________________________________________________________\n",
            "dense_3 (Dense)              (None, 3)                 6915      \n",
            "=================================================================\n",
            "Total params: 72,867\n",
            "Trainable params: 72,675\n",
            "Non-trainable params: 192\n",
            "_________________________________________________________________\n"
          ],
          "name": "stdout"
        }
      ]
    },
    {
      "cell_type": "markdown",
      "metadata": {
        "id": "ej4qtyJXQ1Ze",
        "colab_type": "text"
      },
      "source": [
        "**TRAIN MODEL**"
      ]
    },
    {
      "cell_type": "code",
      "metadata": {
        "id": "uviz43H2G0Ij",
        "colab_type": "code",
        "colab": {
          "base_uri": "https://localhost:8080/",
          "height": 384
        },
        "outputId": "0014e74a-4317-4341-b915-3bf45b1863a5"
      },
      "source": [
        "h= model.fit(\n",
        "    x_train/255,\n",
        "    y_train,\n",
        "    batch_size=120,\n",
        "    epochs=10,\n",
        "    validation_data=(x_test/255,y_test),\n",
        "    callbacks=[\n",
        "               \n",
        "               tf.keras.callbacks.EarlyStopping(monitor='val_accuracy',patience=3),\n",
        "               tf.keras.callbacks.ModelCheckpoint('models/model_{val_accuracy:.3f}.h5',\n",
        "                                                 monitor='val_accuracy',\n",
        "                                                 save_best_only=True,\n",
        "                                                 save_weights_only=False\n",
        "                                                 )\n",
        "    ]\n",
        ")"
      ],
      "execution_count": 69,
      "outputs": [
        {
          "output_type": "stream",
          "text": [
            "Epoch 1/10\n",
            "125/125 [==============================] - 67s 539ms/step - loss: 0.8590 - accuracy: 0.6880 - val_loss: 2.4230 - val_accuracy: 0.3333\n",
            "Epoch 2/10\n",
            "125/125 [==============================] - 68s 542ms/step - loss: 0.5124 - accuracy: 0.7932 - val_loss: 2.9801 - val_accuracy: 0.3337\n",
            "Epoch 3/10\n",
            "125/125 [==============================] - 68s 547ms/step - loss: 0.4367 - accuracy: 0.8258 - val_loss: 1.9557 - val_accuracy: 0.4200\n",
            "Epoch 4/10\n",
            "125/125 [==============================] - 71s 566ms/step - loss: 0.3981 - accuracy: 0.8418 - val_loss: 0.7008 - val_accuracy: 0.7063\n",
            "Epoch 5/10\n",
            "125/125 [==============================] - 68s 542ms/step - loss: 0.3634 - accuracy: 0.8527 - val_loss: 0.4119 - val_accuracy: 0.8370\n",
            "Epoch 6/10\n",
            "125/125 [==============================] - 67s 538ms/step - loss: 0.3393 - accuracy: 0.8647 - val_loss: 0.3211 - val_accuracy: 0.8733\n",
            "Epoch 7/10\n",
            "125/125 [==============================] - 68s 546ms/step - loss: 0.3149 - accuracy: 0.8781 - val_loss: 0.3398 - val_accuracy: 0.8573\n",
            "Epoch 8/10\n",
            "125/125 [==============================] - 68s 546ms/step - loss: 0.2984 - accuracy: 0.8846 - val_loss: 0.5831 - val_accuracy: 0.7663\n",
            "Epoch 9/10\n",
            "125/125 [==============================] - 68s 545ms/step - loss: 0.2858 - accuracy: 0.8877 - val_loss: 0.2677 - val_accuracy: 0.8997\n",
            "Epoch 10/10\n",
            "125/125 [==============================] - 68s 543ms/step - loss: 0.2751 - accuracy: 0.8929 - val_loss: 0.2846 - val_accuracy: 0.8883\n"
          ],
          "name": "stdout"
        }
      ]
    },
    {
      "cell_type": "code",
      "metadata": {
        "id": "N3V_I7pbM7-I",
        "colab_type": "code",
        "colab": {
          "base_uri": "https://localhost:8080/",
          "height": 265
        },
        "outputId": "87fd1aef-c495-4d9d-a7a5-42cb118da7b9"
      },
      "source": [
        "acc=h.history['accuracy']\n",
        "val_acc=h.history['val_accuracy']\n",
        "\n",
        "plt.plot(range(len(acc)),acc,label='Training accuracy')\n",
        "plt.plot(range(len(val_acc)),val_acc,label='Validation accuracy')\n",
        "plt.show()"
      ],
      "execution_count": 71,
      "outputs": [
        {
          "output_type": "display_data",
          "data": {
            "image/png": "[encoded data removed]",
            "text/plain": [
              "<Figure size 432x288 with 1 Axes>"
            ]
          },
          "metadata": {
            "tags": [],
            "needs_background": "light"
          }
        }
      ]
    },
    {
      "cell_type": "code",
      "metadata": {
        "id": "9VdM1AD7N01e",
        "colab_type": "code",
        "colab": {}
      },
      "source": [
        "model= tf.keras.models.load_model('models/model_0.900.h5')"
      ],
      "execution_count": 0,
      "outputs": []
    },
    {
      "cell_type": "code",
      "metadata": {
        "id": "buXlmTWGU2N0",
        "colab_type": "code",
        "colab": {}
      },
      "source": [
        "pred=model.predict(x_test/255)"
      ],
      "execution_count": 0,
      "outputs": []
    },
    {
      "cell_type": "code",
      "metadata": {
        "id": "E1VjF0sRi3PI",
        "colab_type": "code",
        "colab": {
          "base_uri": "https://localhost:8080/",
          "height": 309
        },
        "outputId": "c6b2236f-a5d2-42bb-e78c-f8aaa6e69655"
      },
      "source": [
        "show_random_examples(x_test,y_test,pred)"
      ],
      "execution_count": 81,
      "outputs": [
        {
          "output_type": "display_data",
          "data": {
            "image/png": "[encoded data removed]",
            "text/plain": [
              "<Figure size 720x360 with 10 Axes>"
            ]
          },
          "metadata": {
            "tags": [],
            "needs_background": "light"
          }
        }
      ]
    },
    {
      "cell_type": "code",
      "metadata": {
        "id": "lpoabdwBi-_M",
        "colab_type": "code",
        "colab": {}
      },
      "source": [
        ""
      ],
      "execution_count": 0,
      "outputs": []
    }
  ]
}