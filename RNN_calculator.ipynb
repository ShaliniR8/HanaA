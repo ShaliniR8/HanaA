{
  "nbformat": 4,
  "nbformat_minor": 0,
  "metadata": {
    "colab": {
      "name": "Product.ipynb",
      "provenance": [],
      "collapsed_sections": [],
      "include_colab_link": true
    },
    "kernelspec": {
      "name": "python3",
      "display_name": "Python 3"
    }
  },
  "cells": [
    {
      "cell_type": "markdown",
      "metadata": {
        "id": "view-in-github",
        "colab_type": "text"
      },
      "source": [
        "<a href=\"https://colab.research.google.com/github/ShaliniR8/google-colab-notebooks/blob/master/RNN_calculator.ipynb\" target=\"_parent\"><img src=\"https://colab.research.google.com/assets/colab-badge.svg\" alt=\"Open In Colab\"/></a>"
      ]
    },
    {
      "cell_type": "markdown",
      "metadata": {
        "id": "GpYUCROUn7Qo",
        "colab_type": "text"
      },
      "source": [
        "**IMPORT LIBRARIES**"
      ]
    },
    {
      "cell_type": "code",
      "metadata": {
        "id": "ZCrgwFMznveg",
        "colab_type": "code",
        "colab": {}
      },
      "source": [
        "import numpy as np\n",
        "import os\n",
        "import tensorflow as tf"
      ],
      "execution_count": null,
      "outputs": []
    },
    {
      "cell_type": "code",
      "metadata": {
        "id": "Y6yOY4_5n0Oa",
        "colab_type": "code",
        "colab": {}
      },
      "source": [
        "dir = ['weights1/', 'model/']\n",
        "for folder in dir:\n",
        "  if not os.path.isdir(folder):\n",
        "    os.mkdir(folder)"
      ],
      "execution_count": null,
      "outputs": []
    },
    {
      "cell_type": "code",
      "metadata": {
        "id": "Pux1uPGRn2Eh",
        "colab_type": "code",
        "colab": {}
      },
      "source": [
        "all_chars = '0123456789+'\n",
        "num_features = len(all_chars)\n",
        "char_to_index = dict((c,i) for i,c in enumerate(all_chars))\n",
        "index_to_char = dict((i,c) for i,c in enumerate(all_chars))\n"
      ],
      "execution_count": null,
      "outputs": []
    },
    {
      "cell_type": "markdown",
      "metadata": {
        "id": "4-2gEv4PoGsh",
        "colab_type": "text"
      },
      "source": [
        "**SIMULATE DATA**"
      ]
    },
    {
      "cell_type": "code",
      "metadata": {
        "id": "u0yUpdVIoEpw",
        "colab_type": "code",
        "colab": {
          "base_uri": "https://localhost:8080/",
          "height": 35
        },
        "outputId": "32fd8640-59dc-4816-9319-30548aed2e85"
      },
      "source": [
        "def generate_data():\n",
        "  first_num = np.random.randint(low = 0, high = 100)\n",
        "  second_num = np.random.randint(low = 0, high = 100)\n",
        "  example = str(first_num) + '+' + str(second_num)\n",
        "  label = str(first_num + second_num)\n",
        "  return example,label\n",
        "\n",
        "print(generate_data())"
      ],
      "execution_count": null,
      "outputs": [
        {
          "output_type": "stream",
          "text": [
            "('88+52', '140')\n"
          ],
          "name": "stdout"
        }
      ]
    },
    {
      "cell_type": "code",
      "metadata": {
        "id": "VocUJIKLoMOv",
        "colab_type": "code",
        "colab": {
          "base_uri": "https://localhost:8080/",
          "height": 295
        },
        "outputId": "4dcbf450-2578-4659-c92f-a401cf3edcca"
      },
      "source": [
        "hidden_units = 128\n",
        "max_time_steps = 5\n",
        "\n",
        "model = tf.keras.models.Sequential([\n",
        "    tf.keras.layers.SimpleRNN(hidden_units, input_shape = (None, num_features)),\n",
        "    tf.keras.layers.RepeatVector(max_time_steps),\n",
        "    tf.keras.layers.SimpleRNN(hidden_units, return_sequences=True ),\n",
        "    tf.keras.layers.TimeDistributed(tf.keras.layers.Dense(num_features, activation='softmax'))\n",
        "])\n",
        "\n",
        "model.compile(loss='categorical_crossentropy', optimizer='adam', metrics = ['accuracy'])\n",
        "model.summary()"
      ],
      "execution_count": null,
      "outputs": [
        {
          "output_type": "stream",
          "text": [
            "Model: \"sequential\"\n",
            "_________________________________________________________________\n",
            "Layer (type)                 Output Shape              Param #   \n",
            "=================================================================\n",
            "simple_rnn (SimpleRNN)       (None, 128)               17920     \n",
            "_________________________________________________________________\n",
            "repeat_vector (RepeatVector) (None, 5, 128)            0         \n",
            "_________________________________________________________________\n",
            "simple_rnn_1 (SimpleRNN)     (None, 5, 128)            32896     \n",
            "_________________________________________________________________\n",
            "time_distributed (TimeDistri (None, 5, 11)             1419      \n",
            "=================================================================\n",
            "Total params: 52,235\n",
            "Trainable params: 52,235\n",
            "Non-trainable params: 0\n",
            "_________________________________________________________________\n"
          ],
          "name": "stdout"
        }
      ]
    },
    {
      "cell_type": "markdown",
      "metadata": {
        "id": "Hrz7ObrroejM",
        "colab_type": "text"
      },
      "source": [
        "**VECTORIZE EXAMPLES**"
      ]
    },
    {
      "cell_type": "code",
      "metadata": {
        "id": "W27CZLxcoVDW",
        "colab_type": "code",
        "colab": {
          "base_uri": "https://localhost:8080/",
          "height": 52
        },
        "outputId": "0a23224a-1fa5-4edc-badf-edc65433fa8b"
      },
      "source": [
        "def vectorize_example(example, label):\n",
        "    \n",
        "    x = np.zeros((max_time_steps, num_features))\n",
        "    y = np.zeros((max_time_steps, num_features))\n",
        "    \n",
        "    diff_x = max_time_steps - len(example)\n",
        "    diff_y = max_time_steps - len(label)\n",
        "    #print('diff_x and diff_y:', diff_x, diff_y)\n",
        "    \n",
        "    for i, c in enumerate(example):\n",
        "        x[diff_x+i, char_to_index[c]] = 1\n",
        "    for i in range(diff_x):\n",
        "        x[i, char_to_index['0']] = 1\n",
        "    for i, c in enumerate(label):\n",
        "        y[diff_y+i, char_to_index[c]] = 1\n",
        "    for i in range(diff_y):\n",
        "        y[i, char_to_index['0']] = 1\n",
        "    \n",
        "        \n",
        "    return x, y\n",
        "\n",
        "e, l = generate_data()\n",
        "print('Text Example and Label:', e, l)\n",
        "x, y = vectorize_example(e, l)\n",
        "print('Vectorized Example and Label Shapes:', x.shape, y.shape)"
      ],
      "execution_count": null,
      "outputs": [
        {
          "output_type": "stream",
          "text": [
            "Text Example and Label: 75+67 142\n",
            "Vectorized Example and Label Shapes: (5, 11) (5, 11)\n"
          ],
          "name": "stdout"
        }
      ]
    },
    {
      "cell_type": "markdown",
      "metadata": {
        "id": "HKA0w9yPorDI",
        "colab_type": "text"
      },
      "source": [
        "**DEVECTORIZE**"
      ]
    },
    {
      "cell_type": "code",
      "metadata": {
        "id": "WDC1wH5xoieq",
        "colab_type": "code",
        "colab": {}
      },
      "source": [
        "def devectorize_example(example):\n",
        "    result = [index_to_char[np.argmax(vec)] for vec in example]\n",
        "    return ''.join(result)"
      ],
      "execution_count": null,
      "outputs": []
    },
    {
      "cell_type": "markdown",
      "metadata": {
        "id": "OGUwMsYMoxJs",
        "colab_type": "text"
      },
      "source": [
        "**CREATE DATASET**"
      ]
    },
    {
      "cell_type": "code",
      "metadata": {
        "id": "ec5C3iqhotIn",
        "colab_type": "code",
        "colab": {
          "base_uri": "https://localhost:8080/",
          "height": 35
        },
        "outputId": "8b68670a-e2ad-4189-b8ac-545295287d41"
      },
      "source": [
        "def create_dataset(num_examples=2000):\n",
        "\n",
        "    x_train = np.zeros((num_examples, max_time_steps, num_features))\n",
        "    y_train = np.zeros((num_examples, max_time_steps, num_features))\n",
        "\n",
        "    for i in range(num_examples):\n",
        "        e, l = generate_data()\n",
        "        x, y = vectorize_example(e, l)\n",
        "        x_train[i] = x\n",
        "        y_train[i] = y\n",
        "    \n",
        "    return x_train, y_train\n",
        "\n",
        "x_train, y_train = create_dataset()\n",
        "print(x_train.shape, y_train.shape)"
      ],
      "execution_count": null,
      "outputs": [
        {
          "output_type": "stream",
          "text": [
            "(2000, 5, 11) (2000, 5, 11)\n"
          ],
          "name": "stdout"
        }
      ]
    },
    {
      "cell_type": "code",
      "metadata": {
        "id": "rI-UAmIgozn6",
        "colab_type": "code",
        "colab": {
          "base_uri": "https://localhost:8080/",
          "height": 35
        },
        "outputId": "75c0a340-4c02-4fb8-965c-88bbaa316cfd"
      },
      "source": [
        "def create_test(num_examples = 500):\n",
        "  x_test = np.zeros((num_examples, max_time_steps, num_features))\n",
        "  y_test = np.zeros((num_examples, max_time_steps, num_features))\n",
        "\n",
        "  for i in range(num_examples):\n",
        "    e, l = generate_data()\n",
        "    x, y = vectorize_example(e, l)\n",
        "    x_test[i] = x\n",
        "    y_test[i] = y\n",
        "\n",
        "  return x_test, y_test\n",
        "\n",
        "x_test, y_test = create_test()\n",
        "print(x_test.shape, y_test.shape)"
      ],
      "execution_count": null,
      "outputs": [
        {
          "output_type": "stream",
          "text": [
            "(500, 5, 11) (500, 5, 11)\n"
          ],
          "name": "stdout"
        }
      ]
    },
    {
      "cell_type": "markdown",
      "metadata": {
        "id": "V1O9rKp3o9PN",
        "colab_type": "text"
      },
      "source": [
        "**TRAIN AND SAVE WEIGHTS**"
      ]
    },
    {
      "cell_type": "code",
      "metadata": {
        "id": "84h9A_YBo4te",
        "colab_type": "code",
        "colab": {
          "base_uri": "https://localhost:8080/",
          "height": 1000
        },
        "outputId": "7278ed85-7890-4541-ff66-97c1ae8b8241"
      },
      "source": [
        "chk_pt = 'weights1/'\n",
        "\n",
        "_ = model.fit(\n",
        "    x_train, y_train,\n",
        "    validation_data = ( x_test, y_test ),\n",
        "    epochs = 100,\n",
        "    batch_size = 64,\n",
        "    callbacks = [\n",
        "                 tf.keras.callbacks.ModelCheckpoint(\n",
        "                     os.path.join( chk_pt, 'epoch_{epoch:02d}_acc_{val_accuracy:.4f}' ),\n",
        "                     monitor = 'val_accuracy',\n",
        "                     save_best_only = True,\n",
        "                     save_weights_only = True\n",
        "                 )\n",
        "    ]\n",
        "\n",
        ")"
      ],
      "execution_count": null,
      "outputs": [
        {
          "output_type": "stream",
          "text": [
            "Epoch 1/100\n",
            "32/32 [==============================] - 1s 20ms/step - loss: 1.2979 - accuracy: 0.5558 - val_loss: 1.0357 - val_accuracy: 0.6128\n",
            "Epoch 2/100\n",
            "32/32 [==============================] - 0s 10ms/step - loss: 1.0123 - accuracy: 0.6168 - val_loss: 0.9939 - val_accuracy: 0.6240\n",
            "Epoch 3/100\n",
            "32/32 [==============================] - 0s 10ms/step - loss: 0.9741 - accuracy: 0.6345 - val_loss: 0.9618 - val_accuracy: 0.6488\n",
            "Epoch 4/100\n",
            "32/32 [==============================] - 0s 10ms/step - loss: 0.9401 - accuracy: 0.6563 - val_loss: 0.9255 - val_accuracy: 0.6660\n",
            "Epoch 5/100\n",
            "32/32 [==============================] - 0s 10ms/step - loss: 0.9056 - accuracy: 0.6726 - val_loss: 0.8938 - val_accuracy: 0.6752\n",
            "Epoch 6/100\n",
            "32/32 [==============================] - 0s 10ms/step - loss: 0.8582 - accuracy: 0.6915 - val_loss: 0.8432 - val_accuracy: 0.6872\n",
            "Epoch 7/100\n",
            "32/32 [==============================] - 0s 10ms/step - loss: 0.8130 - accuracy: 0.7073 - val_loss: 0.8187 - val_accuracy: 0.7080\n",
            "Epoch 8/100\n",
            "32/32 [==============================] - 0s 10ms/step - loss: 0.7715 - accuracy: 0.7218 - val_loss: 0.7816 - val_accuracy: 0.7048\n",
            "Epoch 9/100\n",
            "32/32 [==============================] - 0s 11ms/step - loss: 0.7344 - accuracy: 0.7340 - val_loss: 0.7486 - val_accuracy: 0.7228\n",
            "Epoch 10/100\n",
            "32/32 [==============================] - 0s 10ms/step - loss: 0.7149 - accuracy: 0.7382 - val_loss: 0.7235 - val_accuracy: 0.7448\n",
            "Epoch 11/100\n",
            "32/32 [==============================] - 0s 9ms/step - loss: 0.6852 - accuracy: 0.7514 - val_loss: 0.7082 - val_accuracy: 0.7372\n",
            "Epoch 12/100\n",
            "32/32 [==============================] - 0s 10ms/step - loss: 0.6590 - accuracy: 0.7610 - val_loss: 0.6781 - val_accuracy: 0.7612\n",
            "Epoch 13/100\n",
            "32/32 [==============================] - 0s 9ms/step - loss: 0.6421 - accuracy: 0.7729 - val_loss: 0.6713 - val_accuracy: 0.7552\n",
            "Epoch 14/100\n",
            "32/32 [==============================] - 0s 10ms/step - loss: 0.6156 - accuracy: 0.7845 - val_loss: 0.6424 - val_accuracy: 0.7672\n",
            "Epoch 15/100\n",
            "32/32 [==============================] - 0s 10ms/step - loss: 0.5921 - accuracy: 0.7986 - val_loss: 0.6483 - val_accuracy: 0.7652\n",
            "Epoch 16/100\n",
            "32/32 [==============================] - 0s 9ms/step - loss: 0.5769 - accuracy: 0.7985 - val_loss: 0.6199 - val_accuracy: 0.7788\n",
            "Epoch 17/100\n",
            "32/32 [==============================] - 0s 10ms/step - loss: 0.5529 - accuracy: 0.8121 - val_loss: 0.6043 - val_accuracy: 0.7860\n",
            "Epoch 18/100\n",
            "32/32 [==============================] - 0s 10ms/step - loss: 0.5315 - accuracy: 0.8167 - val_loss: 0.5681 - val_accuracy: 0.7940\n",
            "Epoch 19/100\n",
            "32/32 [==============================] - 0s 10ms/step - loss: 0.5060 - accuracy: 0.8266 - val_loss: 0.5780 - val_accuracy: 0.7804\n",
            "Epoch 20/100\n",
            "32/32 [==============================] - 0s 10ms/step - loss: 0.4726 - accuracy: 0.8425 - val_loss: 0.5173 - val_accuracy: 0.8048\n",
            "Epoch 21/100\n",
            "32/32 [==============================] - 0s 10ms/step - loss: 0.4416 - accuracy: 0.8540 - val_loss: 0.4974 - val_accuracy: 0.8156\n",
            "Epoch 22/100\n",
            "32/32 [==============================] - 0s 9ms/step - loss: 0.4193 - accuracy: 0.8605 - val_loss: 0.4825 - val_accuracy: 0.8136\n",
            "Epoch 23/100\n",
            "32/32 [==============================] - 0s 11ms/step - loss: 0.3870 - accuracy: 0.8733 - val_loss: 0.4329 - val_accuracy: 0.8412\n",
            "Epoch 24/100\n",
            "32/32 [==============================] - 0s 9ms/step - loss: 0.3610 - accuracy: 0.8818 - val_loss: 0.4243 - val_accuracy: 0.8392\n",
            "Epoch 25/100\n",
            "32/32 [==============================] - 0s 10ms/step - loss: 0.3379 - accuracy: 0.8936 - val_loss: 0.3781 - val_accuracy: 0.8624\n",
            "Epoch 26/100\n",
            "32/32 [==============================] - 0s 9ms/step - loss: 0.2969 - accuracy: 0.9192 - val_loss: 0.3671 - val_accuracy: 0.8748\n",
            "Epoch 27/100\n",
            "32/32 [==============================] - 0s 9ms/step - loss: 0.2822 - accuracy: 0.9224 - val_loss: 0.3520 - val_accuracy: 0.8748\n",
            "Epoch 28/100\n",
            "32/32 [==============================] - 0s 10ms/step - loss: 0.2616 - accuracy: 0.9314 - val_loss: 0.3246 - val_accuracy: 0.8900\n",
            "Epoch 29/100\n",
            "32/32 [==============================] - 0s 9ms/step - loss: 0.2358 - accuracy: 0.9477 - val_loss: 0.3001 - val_accuracy: 0.9044\n",
            "Epoch 30/100\n",
            "32/32 [==============================] - 0s 9ms/step - loss: 0.2221 - accuracy: 0.9520 - val_loss: 0.2947 - val_accuracy: 0.9072\n",
            "Epoch 31/100\n",
            "32/32 [==============================] - 0s 10ms/step - loss: 0.2109 - accuracy: 0.9524 - val_loss: 0.2740 - val_accuracy: 0.9164\n",
            "Epoch 32/100\n",
            "32/32 [==============================] - 0s 10ms/step - loss: 0.1953 - accuracy: 0.9607 - val_loss: 0.2617 - val_accuracy: 0.9188\n",
            "Epoch 33/100\n",
            "32/32 [==============================] - 0s 9ms/step - loss: 0.1867 - accuracy: 0.9623 - val_loss: 0.2504 - val_accuracy: 0.9252\n",
            "Epoch 34/100\n",
            "32/32 [==============================] - 0s 9ms/step - loss: 0.1699 - accuracy: 0.9690 - val_loss: 0.2438 - val_accuracy: 0.9248\n",
            "Epoch 35/100\n",
            "32/32 [==============================] - 0s 9ms/step - loss: 0.1653 - accuracy: 0.9675 - val_loss: 0.2336 - val_accuracy: 0.9288\n",
            "Epoch 36/100\n",
            "32/32 [==============================] - 0s 9ms/step - loss: 0.1453 - accuracy: 0.9808 - val_loss: 0.2153 - val_accuracy: 0.9384\n",
            "Epoch 37/100\n",
            "32/32 [==============================] - 0s 9ms/step - loss: 0.1424 - accuracy: 0.9768 - val_loss: 0.2074 - val_accuracy: 0.9424\n",
            "Epoch 38/100\n",
            "32/32 [==============================] - 0s 10ms/step - loss: 0.1352 - accuracy: 0.9787 - val_loss: 0.2044 - val_accuracy: 0.9440\n",
            "Epoch 39/100\n",
            "32/32 [==============================] - 0s 9ms/step - loss: 0.1218 - accuracy: 0.9820 - val_loss: 0.1996 - val_accuracy: 0.9436\n",
            "Epoch 40/100\n",
            "32/32 [==============================] - 0s 10ms/step - loss: 0.1145 - accuracy: 0.9844 - val_loss: 0.2132 - val_accuracy: 0.9352\n",
            "Epoch 41/100\n",
            "32/32 [==============================] - 0s 9ms/step - loss: 0.1118 - accuracy: 0.9847 - val_loss: 0.1842 - val_accuracy: 0.9476\n",
            "Epoch 42/100\n",
            "32/32 [==============================] - 0s 9ms/step - loss: 0.1049 - accuracy: 0.9856 - val_loss: 0.1781 - val_accuracy: 0.9472\n",
            "Epoch 43/100\n",
            "32/32 [==============================] - 0s 11ms/step - loss: 0.0921 - accuracy: 0.9906 - val_loss: 0.1646 - val_accuracy: 0.9560\n",
            "Epoch 44/100\n",
            "32/32 [==============================] - 0s 9ms/step - loss: 0.0917 - accuracy: 0.9878 - val_loss: 0.1845 - val_accuracy: 0.9420\n",
            "Epoch 45/100\n",
            "32/32 [==============================] - 0s 9ms/step - loss: 0.1101 - accuracy: 0.9756 - val_loss: 0.1771 - val_accuracy: 0.9448\n",
            "Epoch 46/100\n",
            "32/32 [==============================] - 0s 11ms/step - loss: 0.0945 - accuracy: 0.9839 - val_loss: 0.1671 - val_accuracy: 0.9580\n",
            "Epoch 47/100\n",
            "32/32 [==============================] - 0s 10ms/step - loss: 0.0770 - accuracy: 0.9922 - val_loss: 0.1507 - val_accuracy: 0.9556\n",
            "Epoch 48/100\n",
            "32/32 [==============================] - 0s 9ms/step - loss: 0.0653 - accuracy: 0.9957 - val_loss: 0.1436 - val_accuracy: 0.9580\n",
            "Epoch 49/100\n",
            "32/32 [==============================] - 0s 10ms/step - loss: 0.0609 - accuracy: 0.9957 - val_loss: 0.1376 - val_accuracy: 0.9664\n",
            "Epoch 50/100\n",
            "32/32 [==============================] - 0s 9ms/step - loss: 0.0561 - accuracy: 0.9972 - val_loss: 0.1307 - val_accuracy: 0.9664\n",
            "Epoch 51/100\n",
            "32/32 [==============================] - 0s 10ms/step - loss: 0.0522 - accuracy: 0.9976 - val_loss: 0.1335 - val_accuracy: 0.9676\n",
            "Epoch 52/100\n",
            "32/32 [==============================] - 0s 10ms/step - loss: 0.0511 - accuracy: 0.9968 - val_loss: 0.1327 - val_accuracy: 0.9640\n",
            "Epoch 53/100\n",
            "32/32 [==============================] - 0s 9ms/step - loss: 0.0623 - accuracy: 0.9910 - val_loss: 0.1734 - val_accuracy: 0.9408\n",
            "Epoch 54/100\n",
            "32/32 [==============================] - 0s 9ms/step - loss: 0.0738 - accuracy: 0.9855 - val_loss: 0.1553 - val_accuracy: 0.9520\n",
            "Epoch 55/100\n",
            "32/32 [==============================] - 0s 9ms/step - loss: 0.0643 - accuracy: 0.9894 - val_loss: 0.1632 - val_accuracy: 0.9424\n",
            "Epoch 56/100\n",
            "32/32 [==============================] - 0s 10ms/step - loss: 0.0521 - accuracy: 0.9936 - val_loss: 0.1429 - val_accuracy: 0.9572\n",
            "Epoch 57/100\n",
            "32/32 [==============================] - 0s 9ms/step - loss: 0.0418 - accuracy: 0.9978 - val_loss: 0.1187 - val_accuracy: 0.9664\n",
            "Epoch 58/100\n",
            "32/32 [==============================] - 0s 10ms/step - loss: 0.0345 - accuracy: 0.9986 - val_loss: 0.1162 - val_accuracy: 0.9680\n",
            "Epoch 59/100\n",
            "32/32 [==============================] - 0s 9ms/step - loss: 0.0322 - accuracy: 0.9989 - val_loss: 0.1217 - val_accuracy: 0.9644\n",
            "Epoch 60/100\n",
            "32/32 [==============================] - 0s 11ms/step - loss: 0.0333 - accuracy: 0.9988 - val_loss: 0.1152 - val_accuracy: 0.9692\n",
            "Epoch 61/100\n",
            "32/32 [==============================] - 0s 11ms/step - loss: 0.0290 - accuracy: 0.9992 - val_loss: 0.1131 - val_accuracy: 0.9668\n",
            "Epoch 62/100\n",
            "32/32 [==============================] - 0s 10ms/step - loss: 0.0297 - accuracy: 0.9991 - val_loss: 0.1211 - val_accuracy: 0.9628\n",
            "Epoch 63/100\n",
            "32/32 [==============================] - 0s 9ms/step - loss: 0.0276 - accuracy: 0.9988 - val_loss: 0.1070 - val_accuracy: 0.9672\n",
            "Epoch 64/100\n",
            "32/32 [==============================] - 0s 9ms/step - loss: 0.0274 - accuracy: 0.9990 - val_loss: 0.1103 - val_accuracy: 0.9692\n",
            "Epoch 65/100\n",
            "32/32 [==============================] - 0s 9ms/step - loss: 0.0311 - accuracy: 0.9973 - val_loss: 0.1267 - val_accuracy: 0.9620\n",
            "Epoch 66/100\n",
            "32/32 [==============================] - 0s 9ms/step - loss: 0.0368 - accuracy: 0.9953 - val_loss: 0.1179 - val_accuracy: 0.9648\n",
            "Epoch 67/100\n",
            "32/32 [==============================] - 0s 10ms/step - loss: 0.0444 - accuracy: 0.9915 - val_loss: 0.1505 - val_accuracy: 0.9548\n",
            "Epoch 68/100\n",
            "32/32 [==============================] - 0s 10ms/step - loss: 0.0376 - accuracy: 0.9946 - val_loss: 0.1605 - val_accuracy: 0.9476\n",
            "Epoch 69/100\n",
            "32/32 [==============================] - 0s 9ms/step - loss: 0.0538 - accuracy: 0.9868 - val_loss: 0.1573 - val_accuracy: 0.9508\n",
            "Epoch 70/100\n",
            "32/32 [==============================] - 0s 9ms/step - loss: 0.1141 - accuracy: 0.9607 - val_loss: 0.2597 - val_accuracy: 0.9092\n",
            "Epoch 71/100\n",
            "32/32 [==============================] - 0s 9ms/step - loss: 0.0773 - accuracy: 0.9764 - val_loss: 0.1600 - val_accuracy: 0.9508\n",
            "Epoch 72/100\n",
            "32/32 [==============================] - 0s 10ms/step - loss: 0.0444 - accuracy: 0.9921 - val_loss: 0.1219 - val_accuracy: 0.9616\n",
            "Epoch 73/100\n",
            "32/32 [==============================] - 0s 10ms/step - loss: 0.0261 - accuracy: 0.9985 - val_loss: 0.1063 - val_accuracy: 0.9700\n",
            "Epoch 74/100\n",
            "32/32 [==============================] - 0s 11ms/step - loss: 0.0185 - accuracy: 0.9998 - val_loss: 0.0955 - val_accuracy: 0.9748\n",
            "Epoch 75/100\n",
            "32/32 [==============================] - 0s 9ms/step - loss: 0.0157 - accuracy: 0.9996 - val_loss: 0.0964 - val_accuracy: 0.9724\n",
            "Epoch 76/100\n",
            "32/32 [==============================] - 0s 9ms/step - loss: 0.0148 - accuracy: 0.9998 - val_loss: 0.0945 - val_accuracy: 0.9712\n",
            "Epoch 77/100\n",
            "32/32 [==============================] - 0s 10ms/step - loss: 0.0136 - accuracy: 0.9998 - val_loss: 0.0944 - val_accuracy: 0.9744\n",
            "Epoch 78/100\n",
            "32/32 [==============================] - 0s 9ms/step - loss: 0.0126 - accuracy: 1.0000 - val_loss: 0.0958 - val_accuracy: 0.9736\n",
            "Epoch 79/100\n",
            "32/32 [==============================] - 0s 10ms/step - loss: 0.0120 - accuracy: 1.0000 - val_loss: 0.0912 - val_accuracy: 0.9756\n",
            "Epoch 80/100\n",
            "32/32 [==============================] - 0s 9ms/step - loss: 0.0114 - accuracy: 1.0000 - val_loss: 0.0914 - val_accuracy: 0.9732\n",
            "Epoch 81/100\n",
            "32/32 [==============================] - 0s 9ms/step - loss: 0.0110 - accuracy: 1.0000 - val_loss: 0.0896 - val_accuracy: 0.9748\n",
            "Epoch 82/100\n",
            "32/32 [==============================] - 0s 9ms/step - loss: 0.0106 - accuracy: 1.0000 - val_loss: 0.0901 - val_accuracy: 0.9752\n",
            "Epoch 83/100\n",
            "32/32 [==============================] - 0s 10ms/step - loss: 0.0099 - accuracy: 1.0000 - val_loss: 0.0900 - val_accuracy: 0.9744\n",
            "Epoch 84/100\n",
            "32/32 [==============================] - 0s 9ms/step - loss: 0.0095 - accuracy: 1.0000 - val_loss: 0.0910 - val_accuracy: 0.9736\n",
            "Epoch 85/100\n",
            "32/32 [==============================] - 0s 9ms/step - loss: 0.0093 - accuracy: 1.0000 - val_loss: 0.0903 - val_accuracy: 0.9728\n",
            "Epoch 86/100\n",
            "32/32 [==============================] - 0s 10ms/step - loss: 0.0091 - accuracy: 1.0000 - val_loss: 0.0870 - val_accuracy: 0.9760\n",
            "Epoch 87/100\n",
            "32/32 [==============================] - 0s 9ms/step - loss: 0.0088 - accuracy: 1.0000 - val_loss: 0.0875 - val_accuracy: 0.9748\n",
            "Epoch 88/100\n",
            "32/32 [==============================] - 0s 9ms/step - loss: 0.0083 - accuracy: 1.0000 - val_loss: 0.0904 - val_accuracy: 0.9748\n",
            "Epoch 89/100\n",
            "32/32 [==============================] - 0s 9ms/step - loss: 0.0081 - accuracy: 1.0000 - val_loss: 0.0863 - val_accuracy: 0.9760\n",
            "Epoch 90/100\n",
            "32/32 [==============================] - 0s 11ms/step - loss: 0.0076 - accuracy: 1.0000 - val_loss: 0.0877 - val_accuracy: 0.9748\n",
            "Epoch 91/100\n",
            "32/32 [==============================] - 0s 10ms/step - loss: 0.0075 - accuracy: 1.0000 - val_loss: 0.0868 - val_accuracy: 0.9740\n",
            "Epoch 92/100\n",
            "32/32 [==============================] - 0s 9ms/step - loss: 0.0070 - accuracy: 1.0000 - val_loss: 0.0849 - val_accuracy: 0.9752\n",
            "Epoch 93/100\n",
            "32/32 [==============================] - 0s 9ms/step - loss: 0.0068 - accuracy: 1.0000 - val_loss: 0.0860 - val_accuracy: 0.9760\n",
            "Epoch 94/100\n",
            "32/32 [==============================] - 0s 10ms/step - loss: 0.0065 - accuracy: 1.0000 - val_loss: 0.0858 - val_accuracy: 0.9764\n",
            "Epoch 95/100\n",
            "32/32 [==============================] - 0s 9ms/step - loss: 0.0063 - accuracy: 1.0000 - val_loss: 0.0866 - val_accuracy: 0.9756\n",
            "Epoch 96/100\n",
            "32/32 [==============================] - 0s 10ms/step - loss: 0.0062 - accuracy: 1.0000 - val_loss: 0.0879 - val_accuracy: 0.9756\n",
            "Epoch 97/100\n",
            "32/32 [==============================] - 0s 9ms/step - loss: 0.0060 - accuracy: 1.0000 - val_loss: 0.0859 - val_accuracy: 0.9744\n",
            "Epoch 98/100\n",
            "32/32 [==============================] - 0s 9ms/step - loss: 0.0057 - accuracy: 1.0000 - val_loss: 0.0857 - val_accuracy: 0.9740\n",
            "Epoch 99/100\n",
            "32/32 [==============================] - 0s 10ms/step - loss: 0.0056 - accuracy: 1.0000 - val_loss: 0.0848 - val_accuracy: 0.9772\n",
            "Epoch 100/100\n",
            "32/32 [==============================] - 0s 9ms/step - loss: 0.0053 - accuracy: 1.0000 - val_loss: 0.0850 - val_accuracy: 0.9740\n"
          ],
          "name": "stdout"
        }
      ]
    },
    {
      "cell_type": "code",
      "metadata": {
        "id": "qAZYMpN5pGBz",
        "colab_type": "code",
        "colab": {}
      },
      "source": [
        ""
      ],
      "execution_count": null,
      "outputs": []
    }
  ]
}