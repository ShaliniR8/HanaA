{
  "nbformat": 4,
  "nbformat_minor": 0,
  "metadata": {
    "kernelspec": {
      "display_name": "Python 3",
      "language": "python",
      "name": "python3"
    },
    "language_info": {
      "codemirror_mode": {
        "name": "ipython",
        "version": 3
      },
      "file_extension": ".py",
      "mimetype": "text/x-python",
      "name": "python",
      "nbconvert_exporter": "python",
      "pygments_lexer": "ipython3",
      "version": "3.7.4"
    },
    "colab": {
      "name": "Untitled15.ipynb",
      "provenance": [],
      "include_colab_link": true
    }
  },
  "cells": [
    {
      "cell_type": "markdown",
      "metadata": {
        "id": "view-in-github",
        "colab_type": "text"
      },
      "source": [
        "<a href=\"https://colab.research.google.com/github/ShaliniR8/google-colab-notebooks/blob/master/SimpleRecommender.ipynb\" target=\"_parent\"><img src=\"https://colab.research.google.com/assets/colab-badge.svg\" alt=\"Open In Colab\"/></a>"
      ]
    },
    {
      "cell_type": "markdown",
      "metadata": {
        "id": "8RfuzNtaMIdo",
        "colab_type": "text"
      },
      "source": [
        "**DATASET FROM http://jmcauley.ucsd.edu/data/amazon/**\\\n",
        "Ups and downs: Modeling the visual evolution of fashion trends with one-class collaborative filtering\\\n",
        "*R. He, J. McAuley\\\n",
        "WWW, 2016* "
      ]
    },
    {
      "cell_type": "code",
      "metadata": {
        "id": "qLSuu0HRLaJ0",
        "colab_type": "code",
        "colab": {}
      },
      "source": [
        "path = r'C:\\Users\\KIIT\\Downloads\\ratings_Digital_Music.csv'"
      ],
      "execution_count": null,
      "outputs": []
    },
    {
      "cell_type": "markdown",
      "metadata": {
        "id": "RQ1ScnI0LaJ5",
        "colab_type": "text"
      },
      "source": [
        "**Pandas data frame**\\\n",
        "This code reads the data into a pandas data frame:"
      ]
    },
    {
      "cell_type": "code",
      "metadata": {
        "id": "TTQy-mv4LaJ6",
        "colab_type": "code",
        "colab": {}
      },
      "source": [
        "import pandas as pd\n",
        "\n",
        "df = pd.read_csv(path)\n",
        "df.columns = ['customer_id', 'product_id', 'rating','timestamp']"
      ],
      "execution_count": null,
      "outputs": []
    },
    {
      "cell_type": "code",
      "metadata": {
        "id": "sKH4KGHpLaJ9",
        "colab_type": "code",
        "colab": {},
        "outputId": "9c0ef42c-d2c5-4766-bf32-017ca81bef7c"
      },
      "source": [
        "df.head()"
      ],
      "execution_count": null,
      "outputs": [
        {
          "output_type": "execute_result",
          "data": {
            "text/html": [
              "<div>\n",
              "<style scoped>\n",
              "    .dataframe tbody tr th:only-of-type {\n",
              "        vertical-align: middle;\n",
              "    }\n",
              "\n",
              "    .dataframe tbody tr th {\n",
              "        vertical-align: top;\n",
              "    }\n",
              "\n",
              "    .dataframe thead th {\n",
              "        text-align: right;\n",
              "    }\n",
              "</style>\n",
              "<table border=\"1\" class=\"dataframe\">\n",
              "  <thead>\n",
              "    <tr style=\"text-align: right;\">\n",
              "      <th></th>\n",
              "      <th>customer_id</th>\n",
              "      <th>product_id</th>\n",
              "      <th>rating</th>\n",
              "      <th>timestamp</th>\n",
              "    </tr>\n",
              "  </thead>\n",
              "  <tbody>\n",
              "    <tr>\n",
              "      <td>0</td>\n",
              "      <td>A1WR23ER5HMAA9</td>\n",
              "      <td>5555991584</td>\n",
              "      <td>5.0</td>\n",
              "      <td>953424000</td>\n",
              "    </tr>\n",
              "    <tr>\n",
              "      <td>1</td>\n",
              "      <td>A2IR4Q0GPAFJKW</td>\n",
              "      <td>5555991584</td>\n",
              "      <td>4.0</td>\n",
              "      <td>1393545600</td>\n",
              "    </tr>\n",
              "    <tr>\n",
              "      <td>2</td>\n",
              "      <td>A2V0KUVAB9HSYO</td>\n",
              "      <td>5555991584</td>\n",
              "      <td>4.0</td>\n",
              "      <td>966124800</td>\n",
              "    </tr>\n",
              "    <tr>\n",
              "      <td>3</td>\n",
              "      <td>A1J0GL9HCA7ELW</td>\n",
              "      <td>5555991584</td>\n",
              "      <td>5.0</td>\n",
              "      <td>1007683200</td>\n",
              "    </tr>\n",
              "    <tr>\n",
              "      <td>4</td>\n",
              "      <td>A3EBHHCZO6V2A4</td>\n",
              "      <td>5555991584</td>\n",
              "      <td>5.0</td>\n",
              "      <td>1158019200</td>\n",
              "    </tr>\n",
              "  </tbody>\n",
              "</table>\n",
              "</div>"
            ],
            "text/plain": [
              "      customer_id  product_id  rating   timestamp\n",
              "0  A1WR23ER5HMAA9  5555991584     5.0   953424000\n",
              "1  A2IR4Q0GPAFJKW  5555991584     4.0  1393545600\n",
              "2  A2V0KUVAB9HSYO  5555991584     4.0   966124800\n",
              "3  A1J0GL9HCA7ELW  5555991584     5.0  1007683200\n",
              "4  A3EBHHCZO6V2A4  5555991584     5.0  1158019200"
            ]
          },
          "metadata": {
            "tags": []
          },
          "execution_count": 77
        }
      ]
    },
    {
      "cell_type": "markdown",
      "metadata": {
        "id": "0aSHfaqXLaKB",
        "colab_type": "text"
      },
      "source": [
        "**SIMPLE RECOMMENDER USING JACCARD SIMILARITY**"
      ]
    },
    {
      "cell_type": "code",
      "metadata": {
        "id": "CtscJee7LaKC",
        "colab_type": "code",
        "colab": {}
      },
      "source": [
        "from collections import defaultdict\n",
        "\n",
        "usersPerItem = defaultdict(set)\n",
        "itemsPerUser = defaultdict(set)\n",
        "products = set()"
      ],
      "execution_count": null,
      "outputs": []
    },
    {
      "cell_type": "code",
      "metadata": {
        "id": "9MrRof3XLaKF",
        "colab_type": "code",
        "colab": {}
      },
      "source": [
        "for d in range(len(df)):\n",
        "    user = df['customer_id'][d]\n",
        "    product = df['product_id'][d]\n",
        "    usersPerItem[product].add(user)\n",
        "    itemsPerUser[user].add(product)\n",
        "    products.add(product)"
      ],
      "execution_count": null,
      "outputs": []
    },
    {
      "cell_type": "code",
      "metadata": {
        "id": "dzz_vPa1LaKJ",
        "colab_type": "code",
        "colab": {}
      },
      "source": [
        "def jaccard(u1, u2):\n",
        "    \n",
        "    \n",
        "   \n",
        "    num = len(u1.intersection(u2))\n",
        "    denom = len(u1.union(u2))\n",
        "  \n",
        "    return num/denom\n",
        "\n",
        "def mostSimilarItems(i):\n",
        "    \n",
        "    users = usersPerItem[i]\n",
        "    items = []\n",
        "    candidateItems = set()\n",
        "     \n",
        "    for u in users:\n",
        "        candidateItems = candidateItems.union(itemsPerUser[u])\n",
        "    \n",
        "    for j in candidateItems:\n",
        "        if i==j:\n",
        "            continue\n",
        "        \n",
        "        sim = jaccard(users, usersPerItem[j])\n",
        "        items.append((sim,j))\n",
        "        \n",
        "    items.sort( reverse= True )\n",
        "    return items[:10]\n",
        "    \n",
        "    \n",
        "    "
      ],
      "execution_count": null,
      "outputs": []
    },
    {
      "cell_type": "code",
      "metadata": {
        "id": "EWcV8h7DLaKL",
        "colab_type": "code",
        "colab": {}
      },
      "source": [
        "x = mostSimilarItems( df['product_id'][10] )"
      ],
      "execution_count": null,
      "outputs": []
    },
    {
      "cell_type": "markdown",
      "metadata": {
        "id": "mF0F8pMhLaKS",
        "colab_type": "text"
      },
      "source": [
        "**SIMPLE RECOMMENDER USING COLLABORATIVE FILTERING**"
      ]
    },
    {
      "cell_type": "code",
      "metadata": {
        "id": "A-XEJRGiLaKT",
        "colab_type": "code",
        "colab": {}
      },
      "source": [
        "reviewsPerItem = defaultdict(set)\n",
        "reviewsPerUser = defaultdict(set)\n",
        "\n",
        "\n",
        "\n",
        "for d in range(len(df)):\n",
        "    user = df['customer_id'][d]\n",
        "    item = df['product_id'][d]\n",
        "    \n",
        "    reviewsPerUser[user].add((df['rating'][d],df['customer_id'][d],df['product_id'][d]))\n",
        "    reviewsPerItem[item].add((df['rating'][d],df['customer_id'][d],df['product_id'][d]))\n",
        "    \n",
        "    \n",
        "    "
      ],
      "execution_count": null,
      "outputs": []
    },
    {
      "cell_type": "code",
      "metadata": {
        "id": "C4-lLZGOLaKW",
        "colab_type": "code",
        "colab": {},
        "outputId": "dbc47ef9-8f35-46cf-98c6-7d3ff0665317"
      },
      "source": [
        "import numpy as np\n",
        "Mean = np.mean(df['rating'])\n",
        "Mean"
      ],
      "execution_count": null,
      "outputs": [
        {
          "output_type": "execute_result",
          "data": {
            "text/plain": [
              "4.5402491611892275"
            ]
          },
          "metadata": {
            "tags": []
          },
          "execution_count": 83
        }
      ]
    },
    {
      "cell_type": "code",
      "metadata": {
        "id": "cLMazMFDLaKZ",
        "colab_type": "code",
        "colab": {}
      },
      "source": [
        "def predictRating(user, item):\n",
        "    \n",
        "    ratings = []\n",
        "    similarity = []\n",
        "    for r in reviewsPerUser[user]:\n",
        "        i2 = r[2]\n",
        "        if item == i2:\n",
        "            continue\n",
        "        ratings.append(r[0])\n",
        "        similarity.append(jaccard(usersPerItem[i2], usersPerItem[item]))\n",
        "    if sum(similarity) > 0:\n",
        "        w = [ r*s for r,s in  zip(ratings, similarity)]\n",
        "        return sum(w)/sum(similarity)\n",
        "    \n",
        "    else:\n",
        "        return Mean"
      ],
      "execution_count": null,
      "outputs": []
    },
    {
      "cell_type": "code",
      "metadata": {
        "id": "hbNmgWKQLaKc",
        "colab_type": "code",
        "colab": {},
        "outputId": "cf1bb4be-1134-428e-afeb-cdd099304df0"
      },
      "source": [
        "\n",
        "\n",
        "predictRating(df['customer_id'][19], df['product_id'][9])\n"
      ],
      "execution_count": null,
      "outputs": [
        {
          "output_type": "execute_result",
          "data": {
            "text/plain": [
              "5.0"
            ]
          },
          "metadata": {
            "tags": []
          },
          "execution_count": 91
        }
      ]
    }
  ]
}