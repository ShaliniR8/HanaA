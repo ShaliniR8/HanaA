{
 "cells": [
  {
   "cell_type": "code",
   "execution_count": 75,
   "metadata": {},
   "outputs": [],
   "source": [
    "path = r'C:\\Users\\KIIT\\Downloads\\ratings_Digital_Music.csv'"
   ]
  },
  {
   "cell_type": "markdown",
   "metadata": {},
   "source": [
    "**Pandas data frame**\\\n",
    "This code reads the data into a pandas data frame:"
   ]
  },
  {
   "cell_type": "code",
   "execution_count": 76,
   "metadata": {},
   "outputs": [],
   "source": [
    "import pandas as pd\n",
    "\n",
    "df = pd.read_csv(path)\n",
    "df.columns = ['customer_id', 'product_id', 'rating','timestamp']"
   ]
  },
  {
   "cell_type": "code",
   "execution_count": 77,
   "metadata": {},
   "outputs": [
    {
     "data": {
      "text/html": [
       "<div>\n",
       "<style scoped>\n",
       "    .dataframe tbody tr th:only-of-type {\n",
       "        vertical-align: middle;\n",
       "    }\n",
       "\n",
       "    .dataframe tbody tr th {\n",
       "        vertical-align: top;\n",
       "    }\n",
       "\n",
       "    .dataframe thead th {\n",
       "        text-align: right;\n",
       "    }\n",
       "</style>\n",
       "<table border=\"1\" class=\"dataframe\">\n",
       "  <thead>\n",
       "    <tr style=\"text-align: right;\">\n",
       "      <th></th>\n",
       "      <th>customer_id</th>\n",
       "      <th>product_id</th>\n",
       "      <th>rating</th>\n",
       "      <th>timestamp</th>\n",
       "    </tr>\n",
       "  </thead>\n",
       "  <tbody>\n",
       "    <tr>\n",
       "      <td>0</td>\n",
       "      <td>A1WR23ER5HMAA9</td>\n",
       "      <td>5555991584</td>\n",
       "      <td>5.0</td>\n",
       "      <td>953424000</td>\n",
       "    </tr>\n",
       "    <tr>\n",
       "      <td>1</td>\n",
       "      <td>A2IR4Q0GPAFJKW</td>\n",
       "      <td>5555991584</td>\n",
       "      <td>4.0</td>\n",
       "      <td>1393545600</td>\n",
       "    </tr>\n",
       "    <tr>\n",
       "      <td>2</td>\n",
       "      <td>A2V0KUVAB9HSYO</td>\n",
       "      <td>5555991584</td>\n",
       "      <td>4.0</td>\n",
       "      <td>966124800</td>\n",
       "    </tr>\n",
       "    <tr>\n",
       "      <td>3</td>\n",
       "      <td>A1J0GL9HCA7ELW</td>\n",
       "      <td>5555991584</td>\n",
       "      <td>5.0</td>\n",
       "      <td>1007683200</td>\n",
       "    </tr>\n",
       "    <tr>\n",
       "      <td>4</td>\n",
       "      <td>A3EBHHCZO6V2A4</td>\n",
       "      <td>5555991584</td>\n",
       "      <td>5.0</td>\n",
       "      <td>1158019200</td>\n",
       "    </tr>\n",
       "  </tbody>\n",
       "</table>\n",
       "</div>"
      ],
      "text/plain": [
       "      customer_id  product_id  rating   timestamp\n",
       "0  A1WR23ER5HMAA9  5555991584     5.0   953424000\n",
       "1  A2IR4Q0GPAFJKW  5555991584     4.0  1393545600\n",
       "2  A2V0KUVAB9HSYO  5555991584     4.0   966124800\n",
       "3  A1J0GL9HCA7ELW  5555991584     5.0  1007683200\n",
       "4  A3EBHHCZO6V2A4  5555991584     5.0  1158019200"
      ]
     },
     "execution_count": 77,
     "metadata": {},
     "output_type": "execute_result"
    }
   ],
   "source": [
    "df.head()"
   ]
  },
  {
   "cell_type": "markdown",
   "metadata": {},
   "source": [
    "**SIMPLE RECOMMENDER USING JACCARD SIMILARITY**"
   ]
  },
  {
   "cell_type": "code",
   "execution_count": 78,
   "metadata": {},
   "outputs": [],
   "source": [
    "from collections import defaultdict\n",
    "\n",
    "usersPerItem = defaultdict(set)\n",
    "itemsPerUser = defaultdict(set)\n",
    "products = set()"
   ]
  },
  {
   "cell_type": "code",
   "execution_count": 79,
   "metadata": {},
   "outputs": [],
   "source": [
    "for d in range(len(df)):\n",
    "    user = df['customer_id'][d]\n",
    "    product = df['product_id'][d]\n",
    "    usersPerItem[product].add(user)\n",
    "    itemsPerUser[user].add(product)\n",
    "    products.add(product)"
   ]
  },
  {
   "cell_type": "code",
   "execution_count": 80,
   "metadata": {},
   "outputs": [],
   "source": [
    "def jaccard(u1, u2):\n",
    "    \n",
    "    \n",
    "   \n",
    "    num = len(u1.intersection(u2))\n",
    "    denom = len(u1.union(u2))\n",
    "  \n",
    "    return num/denom\n",
    "\n",
    "def mostSimilarItems(i):\n",
    "    \n",
    "    users = usersPerItem[i]\n",
    "    items = []\n",
    "    candidateItems = set()\n",
    "     \n",
    "    for u in users:\n",
    "        candidateItems = candidateItems.union(itemsPerUser[u])\n",
    "    \n",
    "    for j in candidateItems:\n",
    "        if i==j:\n",
    "            continue\n",
    "        \n",
    "        sim = jaccard(users, usersPerItem[j])\n",
    "        items.append((sim,j))\n",
    "        \n",
    "    items.sort( reverse= True )\n",
    "    return items[:10]\n",
    "    \n",
    "    \n",
    "    "
   ]
  },
  {
   "cell_type": "code",
   "execution_count": 81,
   "metadata": {},
   "outputs": [],
   "source": [
    "x = mostSimilarItems( df['product_id'][10] )"
   ]
  },
  {
   "cell_type": "markdown",
   "metadata": {},
   "source": [
    "**SIMPLE RECOMMENDER USING COLLABORATIVE FILTERING**"
   ]
  },
  {
   "cell_type": "code",
   "execution_count": 82,
   "metadata": {},
   "outputs": [],
   "source": [
    "reviewsPerItem = defaultdict(set)\n",
    "reviewsPerUser = defaultdict(set)\n",
    "\n",
    "\n",
    "\n",
    "for d in range(len(df)):\n",
    "    user = df['customer_id'][d]\n",
    "    item = df['product_id'][d]\n",
    "    \n",
    "    reviewsPerUser[user].add((df['rating'][d],df['customer_id'][d],df['product_id'][d]))\n",
    "    reviewsPerItem[item].add((df['rating'][d],df['customer_id'][d],df['product_id'][d]))\n",
    "    \n",
    "    \n",
    "    "
   ]
  },
  {
   "cell_type": "code",
   "execution_count": 83,
   "metadata": {},
   "outputs": [
    {
     "data": {
      "text/plain": [
       "4.5402491611892275"
      ]
     },
     "execution_count": 83,
     "metadata": {},
     "output_type": "execute_result"
    }
   ],
   "source": [
    "import numpy as np\n",
    "Mean = np.mean(df['rating'])\n",
    "Mean"
   ]
  },
  {
   "cell_type": "code",
   "execution_count": 84,
   "metadata": {},
   "outputs": [],
   "source": [
    "def predictRating(user, item):\n",
    "    \n",
    "    ratings = []\n",
    "    similarity = []\n",
    "    for r in reviewsPerUser[user]:\n",
    "        i2 = r[2]\n",
    "        if item == i2:\n",
    "            continue\n",
    "        ratings.append(r[0])\n",
    "        similarity.append(jaccard(usersPerItem[i2], usersPerItem[item]))\n",
    "    if sum(similarity) > 0:\n",
    "        w = [ r*s for r,s in  zip(ratings, similarity)]\n",
    "        return sum(w)/sum(similarity)\n",
    "    \n",
    "    else:\n",
    "        return Mean"
   ]
  },
  {
   "cell_type": "code",
   "execution_count": 91,
   "metadata": {},
   "outputs": [
    {
     "data": {
      "text/plain": [
       "5.0"
      ]
     },
     "execution_count": 91,
     "metadata": {},
     "output_type": "execute_result"
    }
   ],
   "source": [
    "\n",
    "\n",
    "predictRating(df['customer_id'][19], df['product_id'][9])\n"
   ]
  }
 ],
 "metadata": {
  "kernelspec": {
   "display_name": "Python 3",
   "language": "python",
   "name": "python3"
  },
  "language_info": {
   "codemirror_mode": {
    "name": "ipython",
    "version": 3
   },
   "file_extension": ".py",
   "mimetype": "text/x-python",
   "name": "python",
   "nbconvert_exporter": "python",
   "pygments_lexer": "ipython3",
   "version": "3.7.4"
  }
 },
 "nbformat": 4,
 "nbformat_minor": 2
}
