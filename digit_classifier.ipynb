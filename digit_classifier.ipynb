{
  "nbformat": 4,
  "nbformat_minor": 0,
  "metadata": {
    "colab": {
      "name": "digit classifier",
      "provenance": [],
      "toc_visible": true,
      "authorship_tag": "ABX9TyOKOiEgNtJNRkkfV/zU8Fm0",
      "include_colab_link": true
    },
    "kernelspec": {
      "name": "python3",
      "display_name": "Python 3"
    }
  },
  "cells": [
    {
      "cell_type": "markdown",
      "metadata": {
        "id": "view-in-github",
        "colab_type": "text"
      },
      "source": [
        "<a href=\"https://colab.research.google.com/github/ShaliniR8/Tensorflow-and-keras/blob/master/digit_classifier.ipynb\" target=\"_parent\"><img src=\"https://colab.research.google.com/assets/colab-badge.svg\" alt=\"Open In Colab\"/></a>"
      ]
    },
    {
      "cell_type": "code",
      "metadata": {
        "id": "og2p-xFWREEt",
        "colab_type": "code",
        "colab": {
          "base_uri": "https://localhost:8080/",
          "height": 679
        },
        "outputId": "0cc57cf4-4b93-42d8-993d-5b2b508a3087"
      },
      "source": [
        "!pip install tensorflow"
      ],
      "execution_count": 1,
      "outputs": [
        {
          "output_type": "stream",
          "text": [
            "Requirement already satisfied: tensorflow in /usr/local/lib/python3.6/dist-packages (2.2.0)\n",
            "Requirement already satisfied: wrapt>=1.11.1 in /usr/local/lib/python3.6/dist-packages (from tensorflow) (1.12.1)\n",
            "Requirement already satisfied: grpcio>=1.8.6 in /usr/local/lib/python3.6/dist-packages (from tensorflow) (1.29.0)\n",
            "Requirement already satisfied: protobuf>=3.8.0 in /usr/local/lib/python3.6/dist-packages (from tensorflow) (3.10.0)\n",
            "Requirement already satisfied: six>=1.12.0 in /usr/local/lib/python3.6/dist-packages (from tensorflow) (1.12.0)\n",
            "Requirement already satisfied: wheel>=0.26; python_version >= \"3\" in /usr/local/lib/python3.6/dist-packages (from tensorflow) (0.34.2)\n",
            "Requirement already satisfied: absl-py>=0.7.0 in /usr/local/lib/python3.6/dist-packages (from tensorflow) (0.9.0)\n",
            "Requirement already satisfied: termcolor>=1.1.0 in /usr/local/lib/python3.6/dist-packages (from tensorflow) (1.1.0)\n",
            "Requirement already satisfied: h5py<2.11.0,>=2.10.0 in /usr/local/lib/python3.6/dist-packages (from tensorflow) (2.10.0)\n",
            "Requirement already satisfied: opt-einsum>=2.3.2 in /usr/local/lib/python3.6/dist-packages (from tensorflow) (3.2.1)\n",
            "Requirement already satisfied: numpy<2.0,>=1.16.0 in /usr/local/lib/python3.6/dist-packages (from tensorflow) (1.18.5)\n",
            "Requirement already satisfied: tensorflow-estimator<2.3.0,>=2.2.0 in /usr/local/lib/python3.6/dist-packages (from tensorflow) (2.2.0)\n",
            "Requirement already satisfied: google-pasta>=0.1.8 in /usr/local/lib/python3.6/dist-packages (from tensorflow) (0.2.0)\n",
            "Requirement already satisfied: keras-preprocessing>=1.1.0 in /usr/local/lib/python3.6/dist-packages (from tensorflow) (1.1.2)\n",
            "Requirement already satisfied: tensorboard<2.3.0,>=2.2.0 in /usr/local/lib/python3.6/dist-packages (from tensorflow) (2.2.2)\n",
            "Requirement already satisfied: scipy==1.4.1; python_version >= \"3\" in /usr/local/lib/python3.6/dist-packages (from tensorflow) (1.4.1)\n",
            "Requirement already satisfied: gast==0.3.3 in /usr/local/lib/python3.6/dist-packages (from tensorflow) (0.3.3)\n",
            "Requirement already satisfied: astunparse==1.6.3 in /usr/local/lib/python3.6/dist-packages (from tensorflow) (1.6.3)\n",
            "Requirement already satisfied: setuptools in /usr/local/lib/python3.6/dist-packages (from protobuf>=3.8.0->tensorflow) (47.1.1)\n",
            "Requirement already satisfied: google-auth<2,>=1.6.3 in /usr/local/lib/python3.6/dist-packages (from tensorboard<2.3.0,>=2.2.0->tensorflow) (1.7.2)\n",
            "Requirement already satisfied: markdown>=2.6.8 in /usr/local/lib/python3.6/dist-packages (from tensorboard<2.3.0,>=2.2.0->tensorflow) (3.2.2)\n",
            "Requirement already satisfied: tensorboard-plugin-wit>=1.6.0 in /usr/local/lib/python3.6/dist-packages (from tensorboard<2.3.0,>=2.2.0->tensorflow) (1.6.0.post3)\n",
            "Requirement already satisfied: werkzeug>=0.11.15 in /usr/local/lib/python3.6/dist-packages (from tensorboard<2.3.0,>=2.2.0->tensorflow) (1.0.1)\n",
            "Requirement already satisfied: requests<3,>=2.21.0 in /usr/local/lib/python3.6/dist-packages (from tensorboard<2.3.0,>=2.2.0->tensorflow) (2.23.0)\n",
            "Requirement already satisfied: google-auth-oauthlib<0.5,>=0.4.1 in /usr/local/lib/python3.6/dist-packages (from tensorboard<2.3.0,>=2.2.0->tensorflow) (0.4.1)\n",
            "Requirement already satisfied: rsa<4.1,>=3.1.4 in /usr/local/lib/python3.6/dist-packages (from google-auth<2,>=1.6.3->tensorboard<2.3.0,>=2.2.0->tensorflow) (4.0)\n",
            "Requirement already satisfied: pyasn1-modules>=0.2.1 in /usr/local/lib/python3.6/dist-packages (from google-auth<2,>=1.6.3->tensorboard<2.3.0,>=2.2.0->tensorflow) (0.2.8)\n",
            "Requirement already satisfied: cachetools<3.2,>=2.0.0 in /usr/local/lib/python3.6/dist-packages (from google-auth<2,>=1.6.3->tensorboard<2.3.0,>=2.2.0->tensorflow) (3.1.1)\n",
            "Requirement already satisfied: importlib-metadata; python_version < \"3.8\" in /usr/local/lib/python3.6/dist-packages (from markdown>=2.6.8->tensorboard<2.3.0,>=2.2.0->tensorflow) (1.6.0)\n",
            "Requirement already satisfied: chardet<4,>=3.0.2 in /usr/local/lib/python3.6/dist-packages (from requests<3,>=2.21.0->tensorboard<2.3.0,>=2.2.0->tensorflow) (3.0.4)\n",
            "Requirement already satisfied: urllib3!=1.25.0,!=1.25.1,<1.26,>=1.21.1 in /usr/local/lib/python3.6/dist-packages (from requests<3,>=2.21.0->tensorboard<2.3.0,>=2.2.0->tensorflow) (1.24.3)\n",
            "Requirement already satisfied: certifi>=2017.4.17 in /usr/local/lib/python3.6/dist-packages (from requests<3,>=2.21.0->tensorboard<2.3.0,>=2.2.0->tensorflow) (2020.4.5.1)\n",
            "Requirement already satisfied: idna<3,>=2.5 in /usr/local/lib/python3.6/dist-packages (from requests<3,>=2.21.0->tensorboard<2.3.0,>=2.2.0->tensorflow) (2.9)\n",
            "Requirement already satisfied: requests-oauthlib>=0.7.0 in /usr/local/lib/python3.6/dist-packages (from google-auth-oauthlib<0.5,>=0.4.1->tensorboard<2.3.0,>=2.2.0->tensorflow) (1.3.0)\n",
            "Requirement already satisfied: pyasn1>=0.1.3 in /usr/local/lib/python3.6/dist-packages (from rsa<4.1,>=3.1.4->google-auth<2,>=1.6.3->tensorboard<2.3.0,>=2.2.0->tensorflow) (0.4.8)\n",
            "Requirement already satisfied: zipp>=0.5 in /usr/local/lib/python3.6/dist-packages (from importlib-metadata; python_version < \"3.8\"->markdown>=2.6.8->tensorboard<2.3.0,>=2.2.0->tensorflow) (3.1.0)\n",
            "Requirement already satisfied: oauthlib>=3.0.0 in /usr/local/lib/python3.6/dist-packages (from requests-oauthlib>=0.7.0->google-auth-oauthlib<0.5,>=0.4.1->tensorboard<2.3.0,>=2.2.0->tensorflow) (3.1.0)\n"
          ],
          "name": "stdout"
        }
      ]
    },
    {
      "cell_type": "markdown",
      "metadata": {
        "id": "P8SJzsIBReDD",
        "colab_type": "text"
      },
      "source": [
        "**IMPORT LIBRARIES**"
      ]
    },
    {
      "cell_type": "code",
      "metadata": {
        "id": "5rM9cpbPRJJl",
        "colab_type": "code",
        "colab": {}
      },
      "source": [
        "import tensorflow as tf\n",
        "import numpy as np\n",
        "import matplotlib.pyplot as plt\n",
        "%matplotlib inline"
      ],
      "execution_count": 0,
      "outputs": []
    },
    {
      "cell_type": "markdown",
      "metadata": {
        "id": "dsFHi1XzVr53",
        "colab_type": "text"
      },
      "source": [
        "**LOAD DATA**"
      ]
    },
    {
      "cell_type": "code",
      "metadata": {
        "id": "O-RjBdiaRXl6",
        "colab_type": "code",
        "colab": {}
      },
      "source": [
        "(x_train,y_train),(x_test,y_test) = tf.keras.datasets.mnist.load_data()"
      ],
      "execution_count": 0,
      "outputs": []
    },
    {
      "cell_type": "markdown",
      "metadata": {
        "id": "2JWqGQYMV1oU",
        "colab_type": "text"
      },
      "source": [
        "**PLOT EXAMPLES**"
      ]
    },
    {
      "cell_type": "code",
      "metadata": {
        "id": "gyp_tEXxR6BD",
        "colab_type": "code",
        "colab": {
          "base_uri": "https://localhost:8080/",
          "height": 241
        },
        "outputId": "5204eb2b-7b5b-49f5-b8eb-cd6a32894d87"
      },
      "source": [
        "def plot_examples(x,y,p):\n",
        "\n",
        "  indices=np.random.choice(range(len(x)),10)\n",
        "\n",
        "  x=x[indices]\n",
        "  y=y[indices]\n",
        "  p=p[indices]\n",
        "\n",
        "  plt.figure(figsize=(5,5))\n",
        "  for i in range(10):\n",
        "    plt.subplot(2,5,i+1)\n",
        "    plt.imshow(x[i], cmap='binary')\n",
        "    col='blue' if y[i]==p[i] else 'red'\n",
        "    plt.xlabel(str(y[i]), color=col)\n",
        "    plt.xticks([])\n",
        "    plt.yticks([])\n",
        "\n",
        "  plt.show()\n",
        "\n",
        "plot_examples(x_train,y_train,y_train)"
      ],
      "execution_count": 127,
      "outputs": [
        {
          "output_type": "display_data",
          "data": {
            "image/png": "[encoded data removed]",
            "text/plain": [
              "<Figure size 360x360 with 10 Axes>"
            ]
          },
          "metadata": {
            "tags": []
          }
        }
      ]
    },
    {
      "cell_type": "markdown",
      "metadata": {
        "id": "xBbZvi9Vg5dJ",
        "colab_type": "text"
      },
      "source": [
        "**NORMALIZATION** : *Reshape*"
      ]
    },
    {
      "cell_type": "code",
      "metadata": {
        "id": "p28O6pGKY-wc",
        "colab_type": "code",
        "colab": {
          "base_uri": "https://localhost:8080/",
          "height": 52
        },
        "outputId": "b0375307-4fa0-4654-f26e-0fc975602343"
      },
      "source": [
        "print(x_train.shape, x_test.shape)\n",
        "x_train=np.reshape(x_train,(x_train.shape[0], x_train.shape[1]*x_train.shape[2]))\n",
        "x_test=np.reshape(x_test,(x_test.shape[0], x_test.shape[1]*x_test.shape[2]))\n",
        "print(x_train.shape, x_test.shape)"
      ],
      "execution_count": 128,
      "outputs": [
        {
          "output_type": "stream",
          "text": [
            "(60000, 28, 28) (10000, 28, 28)\n",
            "(60000, 784) (10000, 784)\n"
          ],
          "name": "stdout"
        }
      ]
    },
    {
      "cell_type": "markdown",
      "metadata": {
        "id": "Yz57gueihqI_",
        "colab_type": "text"
      },
      "source": [
        "**NORMALIZATION** "
      ]
    },
    {
      "cell_type": "code",
      "metadata": {
        "id": "Y2tsLV-AcGjl",
        "colab_type": "code",
        "colab": {}
      },
      "source": [
        "x_train=x_train/255\n",
        "x_test=x_test/255\n"
      ],
      "execution_count": 0,
      "outputs": []
    },
    {
      "cell_type": "markdown",
      "metadata": {
        "id": "RMJXsvYOse4_",
        "colab_type": "text"
      },
      "source": [
        "**NEURAL NETWORK MODEL**"
      ]
    },
    {
      "cell_type": "code",
      "metadata": {
        "id": "q5ghkMYbo_8b",
        "colab_type": "code",
        "colab": {
          "base_uri": "https://localhost:8080/",
          "height": 260
        },
        "outputId": "a75b25d7-e3a8-4f1a-9c31-e8f279e636ad"
      },
      "source": [
        "#tanh -> relu ->softmax\n",
        "\n",
        "\n",
        "model = tf.keras.models.Sequential([\n",
        "    tf.keras.layers.Dense(32, activation='relu', input_shape=x_train[0].shape),\n",
        "    tf.keras.layers.Dense(32,activation='relu'),\n",
        "    tf.keras.layers.Dense(10, activation='softmax'),\n",
        "])\n",
        "  \n",
        "\n",
        "#model compile\n",
        "model.compile(\n",
        "    loss= 'sparse_categorical_crossentropy', optimizer='adam', metrics=['accuracy']\n",
        ")\n",
        "\n",
        "model.summary()\n",
        "\n",
        "\n"
      ],
      "execution_count": 130,
      "outputs": [
        {
          "output_type": "stream",
          "text": [
            "Model: \"sequential_12\"\n",
            "_________________________________________________________________\n",
            "Layer (type)                 Output Shape              Param #   \n",
            "=================================================================\n",
            "dense_34 (Dense)             (None, 32)                25120     \n",
            "_________________________________________________________________\n",
            "dense_35 (Dense)             (None, 32)                1056      \n",
            "_________________________________________________________________\n",
            "dense_36 (Dense)             (None, 10)                330       \n",
            "=================================================================\n",
            "Total params: 26,506\n",
            "Trainable params: 26,506\n",
            "Non-trainable params: 0\n",
            "_________________________________________________________________\n"
          ],
          "name": "stdout"
        }
      ]
    },
    {
      "cell_type": "markdown",
      "metadata": {
        "id": "Frq31S1p0fjN",
        "colab_type": "text"
      },
      "source": [
        "**TRAINING**"
      ]
    },
    {
      "cell_type": "code",
      "metadata": {
        "id": "-3--YOaIpDQ4",
        "colab_type": "code",
        "colab": {
          "base_uri": "https://localhost:8080/",
          "height": 1000
        },
        "outputId": "9a2c626b-ceeb-4538-94f6-a2b914c07d26"
      },
      "source": [
        "h = model.fit(\n",
        "    x_train, y_train,\n",
        "    validation_data=(x_test,y_test),\n",
        "    epochs=30, batch_size=2048,\n",
        "    verbose=2\n",
        ")\n",
        "\n"
      ],
      "execution_count": 131,
      "outputs": [
        {
          "output_type": "stream",
          "text": [
            "Epoch 1/30\n",
            "30/30 - 0s - loss: 1.8036 - accuracy: 0.4405 - val_loss: 1.1758 - val_accuracy: 0.7099\n",
            "Epoch 2/30\n",
            "30/30 - 1s - loss: 0.8395 - accuracy: 0.7888 - val_loss: 0.5672 - val_accuracy: 0.8475\n",
            "Epoch 3/30\n",
            "30/30 - 0s - loss: 0.4949 - accuracy: 0.8626 - val_loss: 0.4010 - val_accuracy: 0.8872\n",
            "Epoch 4/30\n",
            "30/30 - 0s - loss: 0.3804 - accuracy: 0.8928 - val_loss: 0.3303 - val_accuracy: 0.9070\n",
            "Epoch 5/30\n",
            "30/30 - 0s - loss: 0.3245 - accuracy: 0.9085 - val_loss: 0.2919 - val_accuracy: 0.9165\n",
            "Epoch 6/30\n",
            "30/30 - 0s - loss: 0.2904 - accuracy: 0.9171 - val_loss: 0.2673 - val_accuracy: 0.9232\n",
            "Epoch 7/30\n",
            "30/30 - 0s - loss: 0.2667 - accuracy: 0.9236 - val_loss: 0.2495 - val_accuracy: 0.9282\n",
            "Epoch 8/30\n",
            "30/30 - 0s - loss: 0.2480 - accuracy: 0.9283 - val_loss: 0.2348 - val_accuracy: 0.9322\n",
            "Epoch 9/30\n",
            "30/30 - 0s - loss: 0.2332 - accuracy: 0.9319 - val_loss: 0.2226 - val_accuracy: 0.9356\n",
            "Epoch 10/30\n",
            "30/30 - 0s - loss: 0.2198 - accuracy: 0.9365 - val_loss: 0.2131 - val_accuracy: 0.9366\n",
            "Epoch 11/30\n",
            "30/30 - 0s - loss: 0.2081 - accuracy: 0.9400 - val_loss: 0.2037 - val_accuracy: 0.9413\n",
            "Epoch 12/30\n",
            "30/30 - 0s - loss: 0.1985 - accuracy: 0.9427 - val_loss: 0.1978 - val_accuracy: 0.9414\n",
            "Epoch 13/30\n",
            "30/30 - 0s - loss: 0.1900 - accuracy: 0.9455 - val_loss: 0.1888 - val_accuracy: 0.9442\n",
            "Epoch 14/30\n",
            "30/30 - 0s - loss: 0.1802 - accuracy: 0.9483 - val_loss: 0.1807 - val_accuracy: 0.9463\n",
            "Epoch 15/30\n",
            "30/30 - 0s - loss: 0.1730 - accuracy: 0.9508 - val_loss: 0.1737 - val_accuracy: 0.9476\n",
            "Epoch 16/30\n",
            "30/30 - 0s - loss: 0.1656 - accuracy: 0.9525 - val_loss: 0.1702 - val_accuracy: 0.9503\n",
            "Epoch 17/30\n",
            "30/30 - 0s - loss: 0.1603 - accuracy: 0.9543 - val_loss: 0.1657 - val_accuracy: 0.9509\n",
            "Epoch 18/30\n",
            "30/30 - 0s - loss: 0.1554 - accuracy: 0.9553 - val_loss: 0.1600 - val_accuracy: 0.9525\n",
            "Epoch 19/30\n",
            "30/30 - 0s - loss: 0.1495 - accuracy: 0.9576 - val_loss: 0.1591 - val_accuracy: 0.9528\n",
            "Epoch 20/30\n",
            "30/30 - 0s - loss: 0.1443 - accuracy: 0.9587 - val_loss: 0.1547 - val_accuracy: 0.9530\n",
            "Epoch 21/30\n",
            "30/30 - 0s - loss: 0.1401 - accuracy: 0.9600 - val_loss: 0.1505 - val_accuracy: 0.9552\n",
            "Epoch 22/30\n",
            "30/30 - 0s - loss: 0.1357 - accuracy: 0.9610 - val_loss: 0.1480 - val_accuracy: 0.9564\n",
            "Epoch 23/30\n",
            "30/30 - 0s - loss: 0.1311 - accuracy: 0.9622 - val_loss: 0.1450 - val_accuracy: 0.9566\n",
            "Epoch 24/30\n",
            "30/30 - 0s - loss: 0.1272 - accuracy: 0.9636 - val_loss: 0.1424 - val_accuracy: 0.9589\n",
            "Epoch 25/30\n",
            "30/30 - 0s - loss: 0.1243 - accuracy: 0.9648 - val_loss: 0.1405 - val_accuracy: 0.9588\n",
            "Epoch 26/30\n",
            "30/30 - 0s - loss: 0.1203 - accuracy: 0.9660 - val_loss: 0.1382 - val_accuracy: 0.9594\n",
            "Epoch 27/30\n",
            "30/30 - 0s - loss: 0.1172 - accuracy: 0.9667 - val_loss: 0.1379 - val_accuracy: 0.9598\n",
            "Epoch 28/30\n",
            "30/30 - 0s - loss: 0.1144 - accuracy: 0.9677 - val_loss: 0.1328 - val_accuracy: 0.9600\n",
            "Epoch 29/30\n",
            "30/30 - 0s - loss: 0.1115 - accuracy: 0.9686 - val_loss: 0.1322 - val_accuracy: 0.9612\n",
            "Epoch 30/30\n",
            "30/30 - 0s - loss: 0.1089 - accuracy: 0.9688 - val_loss: 0.1293 - val_accuracy: 0.9609\n"
          ],
          "name": "stdout"
        }
      ]
    },
    {
      "cell_type": "code",
      "metadata": {
        "id": "VIvQLdDt2ux1",
        "colab_type": "code",
        "colab": {}
      },
      "source": [
        "model.save('model.h5')"
      ],
      "execution_count": 0,
      "outputs": []
    },
    {
      "cell_type": "code",
      "metadata": {
        "id": "mnU4gbr6KprX",
        "colab_type": "code",
        "colab": {}
      },
      "source": [
        "model=tf.keras.models.load_model('model.h5')\n",
        "\n"
      ],
      "execution_count": 0,
      "outputs": []
    },
    {
      "cell_type": "code",
      "metadata": {
        "id": "X8HzE2PZddiL",
        "colab_type": "code",
        "colab": {}
      },
      "source": [
        "pred= model.predict(x_test)"
      ],
      "execution_count": 0,
      "outputs": []
    },
    {
      "cell_type": "code",
      "metadata": {
        "id": "d4TN_sJIi4mS",
        "colab_type": "code",
        "colab": {}
      },
      "source": [
        "x_test=np.reshape(x_test, (x_test.shape[0], 28, 28))"
      ],
      "execution_count": 0,
      "outputs": []
    },
    {
      "cell_type": "code",
      "metadata": {
        "id": "83qCK36rjBGD",
        "colab_type": "code",
        "colab": {}
      },
      "source": [
        "pred=np.argmax(pred, axis=1)"
      ],
      "execution_count": 0,
      "outputs": []
    },
    {
      "cell_type": "code",
      "metadata": {
        "id": "lJHsKYcJl6Ug",
        "colab_type": "code",
        "colab": {
          "base_uri": "https://localhost:8080/",
          "height": 35
        },
        "outputId": "f2afc5ef-f231-4a11-ef66-3241b4d0f2bd"
      },
      "source": [
        "pred.shape\n",
        "pred[1]"
      ],
      "execution_count": 143,
      "outputs": [
        {
          "output_type": "execute_result",
          "data": {
            "text/plain": [
              "2"
            ]
          },
          "metadata": {
            "tags": []
          },
          "execution_count": 143
        }
      ]
    },
    {
      "cell_type": "code",
      "metadata": {
        "id": "1c56svI9jjmO",
        "colab_type": "code",
        "colab": {
          "base_uri": "https://localhost:8080/",
          "height": 241
        },
        "outputId": "72a7ffc1-447c-4d3f-d1b7-c794d234003f"
      },
      "source": [
        "plot_examples(x_test,y_test,pred)"
      ],
      "execution_count": 148,
      "outputs": [
        {
          "output_type": "display_data",
          "data": {
            "image/png": "[encoded data removed]",
            "text/plain": [
              "<Figure size 360x360 with 10 Axes>"
            ]
          },
          "metadata": {
            "tags": []
          }
        }
      ]
    },
    {
      "cell_type": "code",
      "metadata": {
        "id": "wVRjgL_PjxdT",
        "colab_type": "code",
        "colab": {}
      },
      "source": [
        ""
      ],
      "execution_count": 0,
      "outputs": []
    }
  ]
}