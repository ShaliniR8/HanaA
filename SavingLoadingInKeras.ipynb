{
  "nbformat": 4,
  "nbformat_minor": 0,
  "metadata": {
    "colab": {
      "name": "Untitled1.ipynb",
      "provenance": [],
      "collapsed_sections": [],
      "authorship_tag": "ABX9TyNtvxaQfCNe/7goG2aTt0CW",
      "include_colab_link": true
    },
    "kernelspec": {
      "name": "python3",
      "display_name": "Python 3"
    }
  },
  "cells": [
    {
      "cell_type": "markdown",
      "metadata": {
        "id": "view-in-github",
        "colab_type": "text"
      },
      "source": [
        "<a href=\"https://colab.research.google.com/github/ShaliniR8/google-colab-notebooks/blob/master/SavingLoadingInKeras.ipynb\" target=\"_parent\"><img src=\"https://colab.research.google.com/assets/colab-badge.svg\" alt=\"Open In Colab\"/></a>"
      ]
    },
    {
      "cell_type": "markdown",
      "metadata": {
        "id": "gHxJg1yvneFz",
        "colab_type": "text"
      },
      "source": [
        "**IMPORT LIBRARIES**"
      ]
    },
    {
      "cell_type": "code",
      "metadata": {
        "id": "Ak5f6pJ76xas",
        "colab_type": "code",
        "colab": {}
      },
      "source": [
        "import tensorflow as tf\n",
        "import os\n",
        "import numpy as np\n",
        "import matplotlib.pyplot as plt"
      ],
      "execution_count": 14,
      "outputs": []
    },
    {
      "cell_type": "code",
      "metadata": {
        "id": "zmKvPRwc66BV",
        "colab_type": "code",
        "colab": {}
      },
      "source": [
        "folders = ['tmp', 'model', 'model_name', 'weights']\n",
        "for folder in folders:\n",
        "  if not os.path.isdir(folder):\n",
        "    os.mkdir(folder)\n",
        "\n"
      ],
      "execution_count": 15,
      "outputs": []
    },
    {
      "cell_type": "markdown",
      "metadata": {
        "id": "-qRictOG8Ad7",
        "colab_type": "text"
      },
      "source": [
        "**MAKE MODEL**"
      ]
    },
    {
      "cell_type": "code",
      "metadata": {
        "id": "g-oaYtvf7cg8",
        "colab_type": "code",
        "colab": {
          "base_uri": "https://localhost:8080/",
          "height": 260
        },
        "outputId": "a6ce997e-c574-4a7c-baf3-4b6a0548aa30"
      },
      "source": [
        "from tensorflow.keras.layers import Dense\n",
        "def create_model():\n",
        "  model = tf.keras.Sequential(\n",
        "      [\n",
        "       Dense( 128, activation = 'relu', input_shape = (28*28, )),\n",
        "       Dense( 128, activation = 'relu'),\n",
        "       Dense( 10, activation = 'softmax')\n",
        "      ]\n",
        "  )\n",
        "  model.compile( loss = 'categorical_crossentropy', optimizer = 'adam', metrics = ['accuracy'])\n",
        "  return model\n",
        "\n",
        "model = create_model()\n",
        "model.summary()"
      ],
      "execution_count": 21,
      "outputs": [
        {
          "output_type": "stream",
          "text": [
            "Model: \"sequential_5\"\n",
            "_________________________________________________________________\n",
            "Layer (type)                 Output Shape              Param #   \n",
            "=================================================================\n",
            "dense_15 (Dense)             (None, 128)               100480    \n",
            "_________________________________________________________________\n",
            "dense_16 (Dense)             (None, 128)               16512     \n",
            "_________________________________________________________________\n",
            "dense_17 (Dense)             (None, 10)                1290      \n",
            "=================================================================\n",
            "Total params: 118,282\n",
            "Trainable params: 118,282\n",
            "Non-trainable params: 0\n",
            "_________________________________________________________________\n"
          ],
          "name": "stdout"
        }
      ]
    },
    {
      "cell_type": "markdown",
      "metadata": {
        "id": "77PPgiKv-pD-",
        "colab_type": "text"
      },
      "source": [
        "**PREPROCESSING**"
      ]
    },
    {
      "cell_type": "code",
      "metadata": {
        "id": "ntCeOsno97RI",
        "colab_type": "code",
        "colab": {}
      },
      "source": [
        "(x_train, y_train), (x_test, y_test) = tf.keras.datasets.fashion_mnist.load_data()\n",
        "x_train = np.reshape( x_train, (x_train.shape[0], 28*28))\n",
        "x_test = np.reshape( x_test, (x_test.shape[0], 28*28))\n",
        "\n",
        "y_train = tf.keras.utils.to_categorical(y_train, num_classes= 10)\n",
        "y_test = tf.keras.utils.to_categorical(y_test, num_classes= 10)"
      ],
      "execution_count": 17,
      "outputs": []
    },
    {
      "cell_type": "code",
      "metadata": {
        "id": "JAfxTDvniB_f",
        "colab_type": "code",
        "colab": {}
      },
      "source": [
        "x_train = x_train/255.\n",
        "x_test = x_test/255."
      ],
      "execution_count": 18,
      "outputs": []
    },
    {
      "cell_type": "markdown",
      "metadata": {
        "id": "jTCACkdf_FYx",
        "colab_type": "text"
      },
      "source": [
        "**CHECKPOINT**"
      ]
    },
    {
      "cell_type": "code",
      "metadata": {
        "id": "PqT6mqGk-7-X",
        "colab_type": "code",
        "colab": {}
      },
      "source": [
        "checkpoint_dir = 'weights/'\n",
        "\n",
        "_ = model.fit(\n",
        "    x_train, y_train, \n",
        "    validation_data = ( x_test, y_test ), \n",
        "    epochs = 10,\n",
        "    batch_size = 512,\n",
        "    callbacks = [\n",
        "        tf.keras.callbacks.ModelCheckpoint(\n",
        "            os.path.join(checkpoint_dir, 'epoch_{epoch:02d}_acc_{val_accuracy:.4f}'),\n",
        "            monitor = 'val_accuracy',\n",
        "            save_best_only = True,\n",
        "            save_weights_only = True\n",
        "            \n",
        "        )\n",
        "    ]\n",
        "\n",
        ")"
      ],
      "execution_count": null,
      "outputs": []
    },
    {
      "cell_type": "markdown",
      "metadata": {
        "id": "U-j5qX3_kPX_",
        "colab_type": "text"
      },
      "source": [
        "**LOADING AN EMPTY INSTANCE INTO OUR MODEL**"
      ]
    },
    {
      "cell_type": "code",
      "metadata": {
        "id": "AP03qe9sgVKo",
        "colab_type": "code",
        "colab": {
          "base_uri": "https://localhost:8080/",
          "height": 52
        },
        "outputId": "85691613-7fe7-4986-cee8-3770ea30b591"
      },
      "source": [
        "model = create_model()\n",
        "model.evaluate( x_test, y_test, verbose = True )"
      ],
      "execution_count": 22,
      "outputs": [
        {
          "output_type": "stream",
          "text": [
            "313/313 [==============================] - 0s 1ms/step - loss: 2.2811 - accuracy: 0.1277\n"
          ],
          "name": "stdout"
        },
        {
          "output_type": "execute_result",
          "data": {
            "text/plain": [
              "[2.2810606956481934, 0.12770000100135803]"
            ]
          },
          "metadata": {
            "tags": []
          },
          "execution_count": 22
        }
      ]
    },
    {
      "cell_type": "markdown",
      "metadata": {
        "id": "5n_zRYf8kgWu",
        "colab_type": "text"
      },
      "source": [
        "**LOADING OUR WEIGHTS INTO THE MODEL**"
      ]
    },
    {
      "cell_type": "code",
      "metadata": {
        "id": "cEd19xX0ixv4",
        "colab_type": "code",
        "colab": {
          "base_uri": "https://localhost:8080/",
          "height": 52
        },
        "outputId": "5c255b56-5279-4b61-c2f0-c980158e7593"
      },
      "source": [
        "model.load_weights('weights/epoch_09_acc_0.8789')\n",
        "model.evaluate( x_test, y_test, verbose = True )"
      ],
      "execution_count": 23,
      "outputs": [
        {
          "output_type": "stream",
          "text": [
            "313/313 [==============================] - 0s 1ms/step - loss: 0.3406 - accuracy: 0.8789\n"
          ],
          "name": "stdout"
        },
        {
          "output_type": "execute_result",
          "data": {
            "text/plain": [
              "[0.3406388759613037, 0.8788999915122986]"
            ]
          },
          "metadata": {
            "tags": []
          },
          "execution_count": 23
        }
      ]
    },
    {
      "cell_type": "markdown",
      "metadata": {
        "id": "wQA3paEfkxLW",
        "colab_type": "text"
      },
      "source": [
        "**SAVING OUR ENTIRE ARCHITECTURE**"
      ]
    },
    {
      "cell_type": "code",
      "metadata": {
        "id": "A3kaAXI0kvU-",
        "colab_type": "code",
        "colab": {
          "base_uri": "https://localhost:8080/",
          "height": 731
        },
        "outputId": "03785481-9657-4f63-bc61-9fa150b497e9"
      },
      "source": [
        "checkpoint_dir = 'model/'\n",
        "\n",
        "model = create_model()\n",
        "_ = model.fit(\n",
        "    x_train, y_train,\n",
        "    validation_data = ( x_test, y_test),\n",
        "    epochs = 20,\n",
        "    batch_size = 512,\n",
        "    callbacks = [\n",
        "                 tf.keras.callbacks.ModelCheckpoint(\n",
        "                     os.path.join(checkpoint_dir, 'epochs_{epoch:02d}_acc_{val_accuracy:.4f}.h5'),\n",
        "                     monitor = 'val_accuracy',\n",
        "                     save_weights_only = False,\n",
        "                     save_best_only = True\n",
        "                 )\n",
        "    ]\n",
        ")"
      ],
      "execution_count": 24,
      "outputs": [
        {
          "output_type": "stream",
          "text": [
            "Epoch 1/20\n",
            "118/118 [==============================] - 1s 10ms/step - loss: 0.6730 - accuracy: 0.7723 - val_loss: 0.5056 - val_accuracy: 0.8165\n",
            "Epoch 2/20\n",
            "118/118 [==============================] - 1s 10ms/step - loss: 0.4326 - accuracy: 0.8490 - val_loss: 0.4501 - val_accuracy: 0.8404\n",
            "Epoch 3/20\n",
            "118/118 [==============================] - 1s 9ms/step - loss: 0.3839 - accuracy: 0.8645 - val_loss: 0.4000 - val_accuracy: 0.8609\n",
            "Epoch 4/20\n",
            "118/118 [==============================] - 1s 9ms/step - loss: 0.3523 - accuracy: 0.8756 - val_loss: 0.3998 - val_accuracy: 0.8546\n",
            "Epoch 5/20\n",
            "118/118 [==============================] - 1s 9ms/step - loss: 0.3354 - accuracy: 0.8801 - val_loss: 0.3770 - val_accuracy: 0.8671\n",
            "Epoch 6/20\n",
            "118/118 [==============================] - 1s 9ms/step - loss: 0.3187 - accuracy: 0.8850 - val_loss: 0.3743 - val_accuracy: 0.8645\n",
            "Epoch 7/20\n",
            "118/118 [==============================] - 1s 9ms/step - loss: 0.3052 - accuracy: 0.8897 - val_loss: 0.3559 - val_accuracy: 0.8731\n",
            "Epoch 8/20\n",
            "118/118 [==============================] - 1s 9ms/step - loss: 0.3023 - accuracy: 0.8910 - val_loss: 0.3580 - val_accuracy: 0.8726\n",
            "Epoch 9/20\n",
            "118/118 [==============================] - 1s 9ms/step - loss: 0.2876 - accuracy: 0.8953 - val_loss: 0.3426 - val_accuracy: 0.8761\n",
            "Epoch 10/20\n",
            "118/118 [==============================] - 1s 9ms/step - loss: 0.2748 - accuracy: 0.8990 - val_loss: 0.3478 - val_accuracy: 0.8753\n",
            "Epoch 11/20\n",
            "118/118 [==============================] - 1s 9ms/step - loss: 0.2664 - accuracy: 0.9023 - val_loss: 0.3416 - val_accuracy: 0.8769\n",
            "Epoch 12/20\n",
            "118/118 [==============================] - 1s 9ms/step - loss: 0.2562 - accuracy: 0.9065 - val_loss: 0.3334 - val_accuracy: 0.8827\n",
            "Epoch 13/20\n",
            "118/118 [==============================] - 1s 9ms/step - loss: 0.2536 - accuracy: 0.9074 - val_loss: 0.3306 - val_accuracy: 0.8831\n",
            "Epoch 14/20\n",
            "118/118 [==============================] - 1s 9ms/step - loss: 0.2443 - accuracy: 0.9107 - val_loss: 0.3323 - val_accuracy: 0.8828\n",
            "Epoch 15/20\n",
            "118/118 [==============================] - 1s 9ms/step - loss: 0.2421 - accuracy: 0.9109 - val_loss: 0.3451 - val_accuracy: 0.8767\n",
            "Epoch 16/20\n",
            "118/118 [==============================] - 1s 9ms/step - loss: 0.2316 - accuracy: 0.9146 - val_loss: 0.3343 - val_accuracy: 0.8842\n",
            "Epoch 17/20\n",
            "118/118 [==============================] - 1s 9ms/step - loss: 0.2260 - accuracy: 0.9183 - val_loss: 0.3430 - val_accuracy: 0.8790\n",
            "Epoch 18/20\n",
            "118/118 [==============================] - 1s 9ms/step - loss: 0.2215 - accuracy: 0.9191 - val_loss: 0.3318 - val_accuracy: 0.8839\n",
            "Epoch 19/20\n",
            "118/118 [==============================] - 1s 9ms/step - loss: 0.2170 - accuracy: 0.9206 - val_loss: 0.3333 - val_accuracy: 0.8814\n",
            "Epoch 20/20\n",
            "118/118 [==============================] - 1s 9ms/step - loss: 0.2184 - accuracy: 0.9190 - val_loss: 0.3312 - val_accuracy: 0.8854\n"
          ],
          "name": "stdout"
        }
      ]
    },
    {
      "cell_type": "code",
      "metadata": {
        "id": "EKE8KHEJmtZP",
        "colab_type": "code",
        "colab": {}
      },
      "source": [
        ""
      ],
      "execution_count": null,
      "outputs": []
    }
  ]
}